{
 "cells": [
  {
   "cell_type": "markdown",
   "id": "68c6c880",
   "metadata": {},
   "source": [
    "# 21. 旋转图像 \n",
    "\n",
    "给定一个 _n_ × _n_ 的二维矩阵 `matrix` 表示一个图像。请你将图像顺时针旋转 90 度。\n",
    "\n",
    "你必须在 **[原地](https://baike.baidu.com/item/%E5%8E%9F%E5%9C%B0%E7%AE%97%E6%B3%95)**  旋转图像，这意味着你需要直接修改输入的二维矩阵。**请不要**  使用另一个矩阵来旋转图像。\n",
    "\n",
    "**示例 1：** \n",
    "\n",
    "![](https://assets.leetcode.com/uploads/2020/08/28/mat1.jpg)\n",
    "> **输入：** matrix = \\[\\[1,2,3],\\[4,5,6],\\[7,8,9]]\n",
    "> **输出：** \\[\\[7,4,1],\\[8,5,2],\\[9,6,3]]\n",
    "> \n",
    "\n",
    "**示例 2：** \n",
    "\n",
    "![](https://assets.leetcode.com/uploads/2020/08/28/mat2.jpg)\n",
    "> **输入：** matrix = \\[\\[5,1,9,11],\\[2,4,8,10],\\[13,3,6,7],\\[15,14,12,16]]\n",
    "> **输出：** \\[\\[15,13,2,5],\\[14,3,4,1],\\[12,6,8,9],\\[16,7,10,11]]\n",
    "> \n",
    "\n",
    "**提示：** \n",
    "\n",
    "*   `n == matrix.length == matrix[i].length`\n",
    "*   `1 <= n <= 20`\n",
    "*   `-1000 <= matrix[i][j] <= 1000`"
   ]
  },
  {
   "cell_type": "code",
   "execution_count": null,
   "id": "72976d49",
   "metadata": {
    "vscode": {
     "languageId": "plaintext"
    }
   },
   "outputs": [],
   "source": [
    "class Solution(object):\n",
    "    def rotate(self, matrix):\n",
    "        \"\"\"\n",
    "        :type matrix: List[List[int]]\n",
    "        :rtype: None Do not return anything, modify matrix in-place instead.\n",
    "        \"\"\"\n",
    "        # 要求为构建一个原地算法\n",
    "        # 首先分析矩阵旋转的变化规律，旋转角度为顺时针90度\n",
    "        # 发现规律：即将矩阵行转换为矩阵列!\n",
    "        n = len(matrix)\n",
    "        # 使用额外的空间来读取每一行元素，自最后一行向上逐列输入，完成一个时间复杂度O(mn)的算法是简单的\n",
    "        # 这是一个方阵，原地转置可以通过遍历上三角元素进行swap完成\n",
    "        # 顺时针90度旋转的结果等同于矩阵行列转置后对列元素做swap\n",
    "        # 实现矩阵行列转置\n",
    "        for i in range(n - 1):\n",
    "            for j in range(i, n):\n",
    "                temp = matrix[i][j]\n",
    "                matrix[i][j] = matrix[j][i]\n",
    "                matrix[j][i] = temp\n",
    "        # 实现矩阵列交换\n",
    "        for i in range(n):\n",
    "            for j in range(int(n/2)):\n",
    "                temp = matrix[i][j]\n",
    "                matrix[i][j] = matrix[i][n - 1 - j]\n",
    "                matrix[i][n - 1 - j] = temp\n",
    "        \n",
    "        return matrix"
   ]
  },
  {
   "cell_type": "markdown",
   "id": "497c0a6e",
   "metadata": {},
   "source": [
    "另一种方案\n",
    "\n",
    "按照区块进行旋转，详见博主解析"
   ]
  },
  {
   "cell_type": "code",
   "execution_count": null,
   "id": "a7aae3ca",
   "metadata": {
    "vscode": {
     "languageId": "plaintext"
    }
   },
   "outputs": [],
   "source": [
    "class Solution:\n",
    "    def rotate(self, matrix: List[List[int]]) -> None:\n",
    "        # 设矩阵行列数为 n\n",
    "        n = len(matrix)\n",
    "        # 起始点范围为 0 <= i < n // 2 , 0 <= j < (n + 1) // 2\n",
    "        # 其中 '//' 为整数除法\n",
    "        for i in range(n // 2):\n",
    "            for j in range((n + 1) // 2):\n",
    "                # 暂存 A 至 tmp\n",
    "                tmp = matrix[i][j]\n",
    "                # 元素旋转操作 A <- D <- C <- B <- tmp\n",
    "                matrix[i][j] = matrix[n - 1 - j][i]\n",
    "                matrix[n - 1 - j][i] = matrix[n - 1 - i][n - 1 - j]\n",
    "                matrix[n - 1 - i][n - 1 - j] = matrix[j][n - 1 - i]\n",
    "                matrix[j][n - 1 - i] = tmp\n",
    "\n",
    "作者：Krahets\n",
    "链接：https://leetcode.cn/problems/rotate-image/solutions/1228078/48-xuan-zhuan-tu-xiang-fu-zhu-ju-zhen-yu-jobi/\n",
    "来源：力扣（LeetCode）\n",
    "著作权归作者所有。商业转载请联系作者获得授权，非商业转载请注明出处。"
   ]
  }
 ],
 "metadata": {
  "language_info": {
   "name": "python"
  }
 },
 "nbformat": 4,
 "nbformat_minor": 5
}
