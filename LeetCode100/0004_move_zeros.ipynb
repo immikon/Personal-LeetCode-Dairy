{
 "cells": [
  {
   "cell_type": "markdown",
   "id": "21a0d5af",
   "metadata": {},
   "source": [
    "# 4. 移动零 \n",
    "\n",
    "给定一个数组 `nums`，编写一个函数将所有 `0` 移动到数组的末尾，同时保持非零元素的相对顺序。\n",
    "\n",
    "**请注意**  ，必须在不复制数组的情况下原地对数组进行操作。\n",
    "\n",
    "**示例 1:** \n",
    "\n",
    "> **输入:**  nums = `[0,1,0,3,12]`\n",
    "> **输出:**  `[1,3,12,0,0]`\n",
    "> \n",
    "\n",
    "**示例 2:** \n",
    "\n",
    "> **输入:**  nums = `[0]`\n",
    "> **输出:**  `[0]`\n",
    "\n",
    "**提示** :\n",
    "\n",
    "*   `1 <= nums.length <= 10^4`\n",
    "*   `-2^31 <= nums[i] <= 2^31 - 1`\n",
    "\n",
    "**进阶：** 你能尽量减少完成的操作次数吗？"
   ]
  },
  {
   "cell_type": "code",
   "execution_count": null,
   "id": "4245ec47",
   "metadata": {
    "vscode": {
     "languageId": "plaintext"
    }
   },
   "outputs": [],
   "source": [
    "#复杂度为O(n)\n",
    "class Solution(object):\n",
    "    def moveZeroes(self, nums):\n",
    "        \"\"\"\n",
    "        :type nums: List[int]\n",
    "        :rtype: None Do not return anything, modify nums in-place instead.\n",
    "        \"\"\"\n",
    "        p = 0\n",
    "        for i in nums[p:]:\n",
    "            if i == 0:\n",
    "                nums.pop(p)\n",
    "                nums.append(0)\n",
    "                p -= 1\n",
    "            p += 1"
   ]
  },
  {
   "cell_type": "markdown",
   "id": "cc86053d",
   "metadata": {},
   "source": [
    "这一做法有些取巧，只使用了一个p模拟单个指针，依靠list本身的pop与append操作来实现0的移动。\n",
    "\n",
    "确实达到了O(n)的时间复杂度与O(1)的空间复杂度。\n",
    "\n",
    "**事实上**这一问题应该使用双指针的思路来完成。"
   ]
  },
  {
   "cell_type": "code",
   "execution_count": null,
   "id": "c95d34f6",
   "metadata": {
    "vscode": {
     "languageId": "plaintext"
    }
   },
   "outputs": [],
   "source": [
    "#官方双指针方案解答\n",
    "class Solution(object):\n",
    "    def moveZeroes(self, nums):\n",
    "        \"\"\"\n",
    "        :type nums: List[int]\n",
    "        :rtype: None Do not return anything, modify nums in-place instead.\n",
    "        \"\"\"\n",
    "        n = len(nums)\n",
    "        left = right = 0\n",
    "        while right < n:\n",
    "            if nums[right] != 0:\n",
    "                nums[left], nums[right] = nums[right], nums[left]\n",
    "                left += 1\n",
    "            right += 1"
   ]
  },
  {
   "cell_type": "markdown",
   "id": "638b8f32",
   "metadata": {},
   "source": [
    "**这一做法中：** 左指针指向当前已经处理好的序列的尾部，右指针指向待处理序列的头部。\n",
    "\n",
    "右指针不断向右移动，每次右指针指向非零数，则将左右指针对应的数交换，同时左指针右移。\n",
    "\n",
    "> * 左指针左边均为非零数；\n",
    "\n",
    "> * 右指针左边直到左指针处均为零。\n",
    "\n",
    "因此每次交换，都是将左指针的零与右指针的非零数交换，且非零数的相对顺序并未改变。"
   ]
  }
 ],
 "metadata": {
  "language_info": {
   "name": "python"
  }
 },
 "nbformat": 4,
 "nbformat_minor": 5
}
