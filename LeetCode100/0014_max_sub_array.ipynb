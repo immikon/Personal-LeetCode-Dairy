{
 "cells": [
  {
   "cell_type": "markdown",
   "id": "6311821a",
   "metadata": {},
   "source": [
    "# 14. 最大子数组和 \n",
    "\n",
    "给你一个整数数组 `nums` ，请你找出一个具有最大和的连续子数组（子数组最少包含一个元素），返回其最大和。\n",
    "\n",
    "**子数组**  是数组中的一个连续部分。\n",
    "\n",
    "**示例 1：** \n",
    "\n",
    "> **输入：** nums = \\[\\-2,1,\\-3,4,\\-1,2,1,\\-5,4]\n",
    "> **输出：** 6\n",
    "> **解释：** 连续子数组 \\[4,\\-1,2,1] 的和最大，为 6 。\n",
    "> \n",
    "\n",
    "**示例 2：** \n",
    "\n",
    "> **输入：** nums = \\[1]\n",
    "> **输出：** 1\n",
    "> \n",
    "\n",
    "**示例 3：** \n",
    "\n",
    "> **输入：** nums = \\[5,4,\\-1,7,8]\n",
    "> **输出：** 23\n",
    "> \n",
    "\n",
    "**提示：** \n",
    "\n",
    "*   `1 <= nums.length <= 10^5`\n",
    "*   `-10^4 <= nums[i] <= 10^4`\n",
    "\n",
    "**进阶：** 如果你已经实现复杂度为 `O(n)` 的解法，尝试使用更为精妙的 **分治法**  求解。"
   ]
  },
  {
   "cell_type": "code",
   "execution_count": null,
   "id": "a1c129e8",
   "metadata": {
    "vscode": {
     "languageId": "plaintext"
    }
   },
   "outputs": [],
   "source": [
    "# 暴力解法\n",
    "class Solution(object):\n",
    "    def maxSubArray(self, nums):\n",
    "        \"\"\"\n",
    "        :type nums: List[int]\n",
    "        :rtype: int\n",
    "        \"\"\"\n",
    "        # 尝试使用前缀和presum\n",
    "        max_ = None\n",
    "        s = list()\n",
    "        s.append(0)\n",
    "        for i in range(len(nums)):\n",
    "            s.append(s[i] + nums[i])\n",
    "        # 问题转化为求 max(s[j] - s[i])\n",
    "        for i in range(len(nums) + 1):\n",
    "            for j in range(i + 1, len(nums) + 1):\n",
    "                max_ = max(max_, s[j] - s[i])\n",
    "        return max_"
   ]
  },
  {
   "cell_type": "code",
   "execution_count": null,
   "id": "b0448e05",
   "metadata": {
    "vscode": {
     "languageId": "plaintext"
    }
   },
   "outputs": [],
   "source": [
    "class Solution:\n",
    "    def maxSubArray(self, nums):\n",
    "        # 计算前缀和\n",
    "        s = [0]\n",
    "        for num in nums:\n",
    "            s.append(s[-1] + num)\n",
    "        \n",
    "        # 初始化结果和最小前缀和\n",
    "        max_result = nums[0]  # 初始化为第一个元素确保正确性\n",
    "        min_prefix_sum = s[0] # s[0] 总是 0\n",
    "        \n",
    "        # O(n) 遍历前缀和数组来找到最大差值\n",
    "        # j 从 1 开始，对应 nums 的第一个元素\n",
    "        for j in range(1, len(s)):\n",
    "            # 当前的 s[j] 减去在它之前出现过的最小前缀和，\n",
    "            # 就是以 nums[j-1] 结尾的最大子数组和\n",
    "            current_diff = s[j] - min_prefix_sum\n",
    "            max_result = max(max_result, current_diff)\n",
    "            # 更新最小前缀和，为下一次迭代使用\n",
    "            min_prefix_sum = min(min_prefix_sum, s[j])\n",
    "            \n",
    "        return max_result"
   ]
  }
 ],
 "metadata": {
  "language_info": {
   "name": "python"
  }
 },
 "nbformat": 4,
 "nbformat_minor": 5
}
