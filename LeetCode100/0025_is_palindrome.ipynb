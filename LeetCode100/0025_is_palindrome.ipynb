{
 "cells": [
  {
   "cell_type": "markdown",
   "id": "5c5f640d",
   "metadata": {},
   "source": [
    "# 25. 回文链表 \n",
    "\n",
    "给你一个单链表的头节点 `head` ，请你判断该链表是否为回文链表。如果是，返回 `true` ；否则，返回 `false` 。\n",
    "\n",
    "**示例 1：** \n",
    "\n",
    "![](https://assets.leetcode.com/uploads/2021/03/03/pal1linked-list.jpg)\n",
    "> **输入：** head = \\[1,2,2,1]\n",
    "> **输出：** true\n",
    "> \n",
    "\n",
    "**示例 2：** \n",
    "\n",
    "![](https://assets.leetcode.com/uploads/2021/03/03/pal2linked-list.jpg)\n",
    "> **输入：** head = \\[1,2]\n",
    "> **输出：** false\n",
    "> \n",
    "\n",
    "**提示：** \n",
    "\n",
    "*   链表中节点数目在范围`[1, 10^5]` 内\n",
    "*   `0 <= Node.val <= 9`\n",
    "\n",
    "**进阶：** 你能否用 `O(n)` 时间复杂度和 `O(1)` 空间复杂度解决此题？"
   ]
  },
  {
   "cell_type": "code",
   "execution_count": null,
   "id": "1df3cb95",
   "metadata": {
    "vscode": {
     "languageId": "plaintext"
    }
   },
   "outputs": [],
   "source": [
    "# Definition for singly-linked list.\n",
    "# class ListNode(object):\n",
    "#     def __init__(self, val=0, next=None):\n",
    "#         self.val = val\n",
    "#         self.next = next\n",
    "class Solution(object):\n",
    "    def isPalindrome(self, head):\n",
    "        \"\"\"\n",
    "        :type head: Optional[ListNode]\n",
    "        :rtype: bool\n",
    "        \"\"\"\n",
    "        vals = []\n",
    "        current_node = head\n",
    "        while current_node is not None:\n",
    "            vals.append(current_node.val)\n",
    "            current_node = current_node.next\n",
    "        return vals == vals[::-1]"
   ]
  },
  {
   "cell_type": "markdown",
   "id": "90ffbd1c",
   "metadata": {},
   "source": [
    "一共为两个步骤：\n",
    "\n",
    "复制链表值到数组列表中。\n",
    "使用双指针法判断是否为回文。\n",
    "第一步，我们需要遍历链表将值复制到数组列表中。我们用 currentNode 指向当前节点。每次迭代向数组添加 currentNode.val，并更新 currentNode = currentNode.next，当 currentNode = null 时停止循环。\n",
    "\n",
    "执行第二步的最佳方法取决于你使用的语言。在 Python 中，很容易构造一个列表的反向副本，也很容易比较两个列表。而在其他语言中，就没有那么简单。因此最好使用双指针法来检查是否为回文。我们在起点放置一个指针，在结尾放置一个指针，每一次迭代判断两个指针指向的元素是否相同，若不同，返回 false；相同则将两个指针向内移动，并继续判断，直到两个指针相遇。\n",
    "\n",
    "在编码的过程中，注意我们比较的是节点值的大小，而不是节点本身。正确的比较方式是：node_1.val == node_2.val，而 node_1 == node_2 是错误的。\n",
    "\n",
    "作者：力扣官方题解\n",
    "链接：https://leetcode.cn/problems/palindrome-linked-list/solutions/457059/hui-wen-lian-biao-by-leetcode-solution/\n",
    "来源：力扣（LeetCode）"
   ]
  },
  {
   "cell_type": "markdown",
   "id": "ac3a442b",
   "metadata": {},
   "source": [
    "* 对于链表，如何快速找到最后一个节点、倒数第二个节点、倒数第三个节点……？\n",
    "\n",
    "首先，找链表的中间节点：\n",
    "\n",
    "如果链表有奇数个节点，找正中间的节点。\n",
    "\n",
    "如果链表有偶数个节点，找正中间右边的节点。\n",
    "\n",
    "然后，把中间节点到链表末尾反转。\n",
    " \n",
    "这样我们就能从 head 2 开始，依次访问原链表的最后一个节点、倒数第二个节点、倒数第三个节点……\n",
    "\n",
    "最后，同时遍历 head 和 head 2\n",
    "\n",
    "​这两个链表，每次循环判断 head.val 是否等于 head .val，若不相等，则返回 false。循环直到 head \n",
    "\n",
    "​链表遍历结束。如果循环中没有返回 false，说明链表是回文的，返回 true。\n",
    "\n",
    "作者：灵茶山艾府\n",
    "链接：https://leetcode.cn/problems/palindrome-linked-list/solutions/2952645/o1-kong-jian-zuo-fa-xun-zhao-zhong-jian-rv0f3/\n",
    "来源：力扣（LeetCode）"
   ]
  },
  {
   "cell_type": "code",
   "execution_count": null,
   "id": "d5d8469d",
   "metadata": {
    "vscode": {
     "languageId": "plaintext"
    }
   },
   "outputs": [],
   "source": [
    "class Solution:\n",
    "    # 876. 链表的中间结点\n",
    "    def middleNode(self, head: Optional[ListNode]) -> Optional[ListNode]:\n",
    "        slow = fast = head\n",
    "        while fast and fast.next:\n",
    "            slow = slow.next\n",
    "            fast = fast.next.next\n",
    "        return slow\n",
    "\n",
    "    # 206. 反转链表\n",
    "    def reverseList(self, head: Optional[ListNode]) -> Optional[ListNode]:\n",
    "        pre, cur = None, head\n",
    "        while cur:\n",
    "            nxt = cur.next\n",
    "            cur.next = pre\n",
    "            pre = cur\n",
    "            cur = nxt\n",
    "        return pre\n",
    "\n",
    "    def isPalindrome(self, head: Optional[ListNode]) -> bool:\n",
    "        mid = self.middleNode(head)\n",
    "        head2 = self.reverseList(mid)\n",
    "        while head2:\n",
    "            if head.val != head2.val:  # 不是回文链表\n",
    "                return False\n",
    "            head = head.next\n",
    "            head2 = head2.next\n",
    "        return True\n",
    "\n",
    "作者：灵茶山艾府\n",
    "链接：https://leetcode.cn/problems/palindrome-linked-list/solutions/2952645/o1-kong-jian-zuo-fa-xun-zhao-zhong-jian-rv0f3/\n",
    "来源：力扣（LeetCode）"
   ]
  }
 ],
 "metadata": {
  "language_info": {
   "name": "python"
  }
 },
 "nbformat": 4,
 "nbformat_minor": 5
}
