{
 "cells": [
  {
   "cell_type": "markdown",
   "id": "8b0145db",
   "metadata": {},
   "source": [
    "# 32. 随机链表的复制 \n",
    "\n",
    "给你一个长度为 `n` 的链表，每个节点包含一个额外增加的随机指针 `random` ，该指针可以指向链表中的任何节点或空节点。\n",
    "\n",
    "构造这个链表的 **[深拷贝](https://baike.baidu.com/item/深拷贝/22785317?fr=aladdin)** 。 深拷贝应该正好由 `n` 个 **全新**  节点组成，其中每个新节点的值都设为其对应的原节点的值。新节点的 `next` 指针和 `random` 指针也都应指向复制链表中的新节点，并使原链表和复制链表中的这些指针能够表示相同的链表状态。**复制链表中的指针都不应指向原链表中的节点**  。\n",
    "\n",
    "例如，如果原链表中有 `X` 和 `Y` 两个节点，其中 `X.random --> Y` 。那么在复制链表中对应的两个节点 `x` 和 `y` ，同样有 `x.random --> y` 。\n",
    "\n",
    "返回复制链表的头节点。\n",
    "\n",
    "用一个由 `n` 个节点组成的链表来表示输入/输出中的链表。每个节点用一个 `[val, random_index]` 表示：\n",
    "\n",
    "*   `val`：一个表示 `Node.val` 的整数。\n",
    "*   `random_index`：随机指针指向的节点索引（范围从 `0` 到 `n-1`）；如果不指向任何节点，则为  `null` 。\n",
    "\n",
    "你的代码 **只**  接受原链表的头节点 `head` 作为传入参数。\n",
    "\n",
    "**示例 1：** \n",
    "\n",
    "![](https://assets.leetcode-cn.com/aliyun-lc-upload/uploads/2020/01/09/e1.png)\n",
    "\n",
    "> **输入：** head = \\[\\[7,null],\\[13,0],\\[11,4],\\[10,2],\\[1,0]]\n",
    "> **输出：** \\[\\[7,null],\\[13,0],\\[11,4],\\[10,2],\\[1,0]]\n",
    "> \n",
    "\n",
    "**示例 2：** \n",
    "\n",
    "![](https://assets.leetcode-cn.com/aliyun-lc-upload/uploads/2020/01/09/e2.png)\n",
    "\n",
    "> **输入：** head = \\[\\[1,1],\\[2,1]]\n",
    "> **输出：** \\[\\[1,1],\\[2,1]]\n",
    "> \n",
    "\n",
    "**示例 3：** \n",
    "\n",
    "**![](https://assets.leetcode-cn.com/aliyun-lc-upload/uploads/2020/01/09/e3.png)** \n",
    "\n",
    "> **输入：** head = \\[\\[3,null],\\[3,0],\\[3,null]]\n",
    "> **输出：** \\[\\[3,null],\\[3,0],\\[3,null]]\n",
    "> \n",
    "\n",
    "**提示：** \n",
    "\n",
    "*   `0 <= n <= 1000`\n",
    "*   `-10^4 <= Node.val <= 10^4`\n",
    "*   `Node.random` 为 `null` 或指向链表中的节点。"
   ]
  },
  {
   "cell_type": "code",
   "execution_count": null,
   "id": "4142af52",
   "metadata": {
    "vscode": {
     "languageId": "plaintext"
    }
   },
   "outputs": [],
   "source": [
    "\"\"\"\n",
    "# Definition for a Node.\n",
    "class Node:\n",
    "    def __init__(self, x, next=None, random=None):\n",
    "        self.val = int(x)\n",
    "        self.next = next\n",
    "        self.random = random\n",
    "\"\"\"\n",
    "\n",
    "class Solution(object):\n",
    "    def copyRandomList(self, head):\n",
    "        \"\"\"\n",
    "        :type head: Node\n",
    "        :rtype: Node\n",
    "        \"\"\"\n",
    "        # 深拷贝，尝试遍历两次\n",
    "        # 第一次构造一个值相同的新链表\n",
    "        # 第二次读取random\n",
    "        # 难点在于我们不知道random节点是原链表的第几个节点，因此拷贝时无从下手\n",
    "        if not head:\n",
    "            return\n",
    "        res = Node(0, None)\n",
    "        ori = head\n",
    "        crt = res\n",
    "        dic = {}\n",
    "        cnt = 0\n",
    "        while ori.next:\n",
    "            tmp = Node(ori.val, None)\n",
    "            crt.next = tmp\n",
    "            ori = ori.next\n",
    "            crt = tmp\n",
    "            # 或许可以在这一遍遍历中，通过某种形式，存储random，以便第二次遍历\n",
    "            dic[ori] = ?"
   ]
  },
  {
   "cell_type": "markdown",
   "id": "f82261bf",
   "metadata": {},
   "source": [
    "### 尽管思路接近，但未能解出，对结构的理解不足够"
   ]
  },
  {
   "cell_type": "code",
   "execution_count": null,
   "id": "78e8e9cb",
   "metadata": {
    "vscode": {
     "languageId": "plaintext"
    }
   },
   "outputs": [],
   "source": [
    "class Solution:\n",
    "    def copyRandomList(self, head: 'Node') -> 'Node':\n",
    "        if not head: return\n",
    "        dic = {}\n",
    "        # 3. 复制各节点，并建立 “原节点 -> 新节点” 的 Map 映射\n",
    "        cur = head\n",
    "        while cur:\n",
    "            dic[cur] = Node(cur.val)\n",
    "            cur = cur.next\n",
    "        cur = head\n",
    "        # 4. 构建新节点的 next 和 random 指向\n",
    "        while cur:\n",
    "            dic[cur].next = dic.get(cur.next)\n",
    "            dic[cur].random = dic.get(cur.random)\n",
    "            cur = cur.next\n",
    "        # 5. 返回新链表的头节点\n",
    "        return dic[head]\n",
    "\n",
    "作者：Krahets\n",
    "链接：https://leetcode.cn/problems/copy-list-with-random-pointer/solutions/2361362/138-fu-zhi-dai-sui-ji-zhi-zhen-de-lian-b-6jeo/\n",
    "来源：力扣（LeetCode）\n",
    "著作权归作者所有。商业转载请联系作者获得授权，非商业转载请注明出处。"
   ]
  },
  {
   "cell_type": "markdown",
   "id": "825e0a11",
   "metadata": {},
   "source": [
    "#### **dic[cur] = Node(cur.val)** 为什么这个赋值可以成立？\n",
    "\n",
    "这行代码实质是：dic[原始Node1对象] = NewNode1对象\n",
    "\n",
    "执行完成后，得到了的 dic 的内容是：{ Node1: NewNode1 }"
   ]
  }
 ],
 "metadata": {
  "language_info": {
   "name": "python"
  }
 },
 "nbformat": 4,
 "nbformat_minor": 5
}
