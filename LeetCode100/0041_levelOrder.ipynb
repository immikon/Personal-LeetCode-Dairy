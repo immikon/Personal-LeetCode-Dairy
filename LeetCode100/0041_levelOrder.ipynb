{
 "cells": [
  {
   "cell_type": "markdown",
   "id": "e43917db",
   "metadata": {},
   "source": [
    "# 41. 二叉树的层序遍历 \n",
    "\n",
    "给你二叉树的根节点 `root` ，返回其节点值的 **层序遍历**  。 （即逐层地，从左到右访问所有节点）。\n",
    "\n",
    "**示例 1：** \n",
    "\n",
    "![](https://assets.leetcode.com/uploads/2021/02/19/tree1.jpg)\n",
    "> **输入：** root = \\[3,9,20,null,null,15,7]\n",
    "> **输出：** \\[\\[3],\\[9,20],\\[15,7]]\n",
    "> \n",
    "\n",
    "**示例 2：** \n",
    "\n",
    "> **输入：** root = \\[1]\n",
    "> **输出：** \\[\\[1]]\n",
    "> \n",
    "\n",
    "**示例 3：** \n",
    "\n",
    "> **输入：** root = \\[]\n",
    "> **输出：** \\[]\n",
    "> \n",
    "\n",
    "**提示：** \n",
    "\n",
    "*   树中节点数目在范围 `[0, 2000]` 内\n",
    "*   `-1000 <= Node.val <= 1000`"
   ]
  },
  {
   "cell_type": "code",
   "execution_count": null,
   "id": "9cef3c75",
   "metadata": {
    "vscode": {
     "languageId": "plaintext"
    }
   },
   "outputs": [],
   "source": [
    "# Definition for a binary tree node.\n",
    "# class TreeNode(object):\n",
    "#     def __init__(self, val=0, left=None, right=None):\n",
    "#         self.val = val\n",
    "#         self.left = left\n",
    "#         self.right = right\n",
    "class Solution(object):\n",
    "    def levelOrder(self, root):\n",
    "        \"\"\"\n",
    "        :type root: Optional[TreeNode]\n",
    "        :rtype: List[List[int]]\n",
    "        \"\"\"\n",
    "        if not root:\n",
    "            return []\n",
    "        queue = [root]\n",
    "        res = []\n",
    "        while queue:\n",
    "            tmp = []\n",
    "            levelVal = []\n",
    "            for node in queue:\n",
    "                levelVal.append(node.val)\n",
    "                if node.left:\n",
    "                    tmp.append(node.left)\n",
    "                if node.right:\n",
    "                    tmp.append(node.right)\n",
    "            queue = tmp\n",
    "            res.append(levelVal)\n",
    "        return res"
   ]
  },
  {
   "cell_type": "markdown",
   "id": "51914318",
   "metadata": {},
   "source": [
    "队列做法，在解决之前的问题时为了尝试不同解决方案已经实现过多次了。\n",
    "\n",
    "这里初次时出了点问题，因为返回格式只接收val，不接收树形式，不过容易解决。"
   ]
  }
 ],
 "metadata": {
  "language_info": {
   "name": "python"
  }
 },
 "nbformat": 4,
 "nbformat_minor": 5
}
