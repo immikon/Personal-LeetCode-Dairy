{
 "cells": [
  {
   "cell_type": "markdown",
   "id": "34f16c04",
   "metadata": {},
   "source": [
    "# 18. 缺失的第一个正数 \n",
    "\n",
    "给你一个未排序的整数数组 `nums` ，请你找出其中没有出现的最小的正整数。\n",
    "\n",
    "请你实现时间复杂度为 `O(n)` 并且只使用常数级别额外空间的解决方案。\n",
    "\n",
    "**示例 1：** \n",
    "\n",
    "> **输入：** nums = \\[1,2,0]\n",
    "> **输出：** 3\n",
    "> **解释：** 范围 \\[1,2] 中的数字都在数组中。\n",
    "\n",
    "**示例 2：** \n",
    "\n",
    "> **输入：** nums = \\[3,4,\\-1,1]\n",
    "> **输出：** 2\n",
    "> **解释：** 1 在数组中，但 2 没有。\n",
    "\n",
    "**示例 3：** \n",
    "\n",
    "> **输入：** nums = \\[7,8,9,11,12]\n",
    "> **输出：** 1\n",
    "> **解释：** 最小的正数 1 没有出现。\n",
    "\n",
    "**提示：** \n",
    "\n",
    "*   `1 <= nums.length <= 10^5`\n",
    "*   `-2^31 <= nums[i] <= 2^31 - 1`"
   ]
  },
  {
   "cell_type": "code",
   "execution_count": null,
   "id": "e71384a9",
   "metadata": {
    "vscode": {
     "languageId": "plaintext"
    }
   },
   "outputs": [],
   "source": [
    "class Solution(object):\n",
    "    def firstMissingPositive(self, nums):\n",
    "        \"\"\"\n",
    "        :type nums: List[int]\n",
    "        :rtype: int\n",
    "        \"\"\"\n",
    "        k = set()\n",
    "        for i in nums:\n",
    "            if i > 0:\n",
    "                k.add(i)\n",
    "        for i in range(1, len(nums) + 1):\n",
    "            if i not in k:\n",
    "                return i\n",
    "        return len(nums) + 1\n",
    "        "
   ]
  },
  {
   "cell_type": "code",
   "execution_count": null,
   "id": "c95c2e9b",
   "metadata": {
    "vscode": {
     "languageId": "plaintext"
    }
   },
   "outputs": [],
   "source": [
    "class Solution(object):\n",
    "    def firstMissingPositive(self, nums):\n",
    "        \"\"\"\n",
    "        :type nums: List[int]\n",
    "        :rtype: int\n",
    "        \"\"\"\n",
    "        k = defaultdict(int)\n",
    "        for i in nums:\n",
    "            if i > 0:\n",
    "                k[i] += 1\n",
    "        for i in range(1, len(nums) + 1):\n",
    "            if k[i] == 0:\n",
    "                return i\n",
    "        return len(nums) + 1\n",
    "        "
   ]
  },
  {
   "cell_type": "markdown",
   "id": "1814abbd",
   "metadata": {},
   "source": [
    "以上两种方法分别使用了`dict`与`set`作为存储工具，在python中，解决**是否存在**的问题时，使用`set`更优。\n",
    "\n",
    "但本问题的难点在于实现O(1)空间复杂度的算法。\n",
    "\n",
    "以上算法虽然都达到了O(n)的时间复杂度，但在空间复杂度上都未达到要求，要达到常数级的空间复杂度，可能需要考虑原地算法。"
   ]
  },
  {
   "cell_type": "code",
   "execution_count": null,
   "id": "50d336da",
   "metadata": {
    "vscode": {
     "languageId": "plaintext"
    }
   },
   "outputs": [],
   "source": [
    "class Solution(object):\n",
    "    def firstMissingPositive(self, nums):\n",
    "        \"\"\"\n",
    "        :type nums: List[int]\n",
    "        :rtype: int\n",
    "        \"\"\"\n",
    "        for i in range(len(nums)):\n",
    "            # 先判断这个数字是不是索引，然后判断这个数字是不是放在了正确的地方\n",
    "            # 正确的地方，e.g 1 一定在第 0 个位置上， nums[i] = i + 1\n",
    "            while nums[i] >= 1 and nums[i] <= len(nums) and nums[i] != nums[nums[i] - 1]:\n",
    "                nums[i], nums[nums[i] - 1] = nums[nums[i] - 1], nums[i]\n",
    "            \n",
    "        for i in range(len(nums)):\n",
    "            if i + 1 != nums[i]:\n",
    "                return i + 1\n",
    "\n",
    "        return len(nums) + 1\n",
    "\n",
    "# 参照了博主的做法，但这一代码在力扣python中运行显示超时，而原代码在python3中正常运行，目前尚不清楚原因。"
   ]
  },
  {
   "cell_type": "markdown",
   "id": "4fd4bb5f",
   "metadata": {},
   "source": [
    "**据称：** \n",
    "\n",
    "python方法不能写为 nums[i], nums[nums[i]-1] = nums[nums[i]-1], nums[i]的原因： \n",
    "\n",
    "执行时右边的表达式会先被求值，生成一个临时元组（例如 (x, y)），然后依次赋值给左边的 nums[i] 和 nums[nums[i]-1]；在赋值过程中，nums[i]的值会被先修改，当执行到第二个赋值 nums[nums[i]-1] 时，此时的 nums[i] 已经是交换后的新值（不再是原来的值）。\n",
    "示例说明：假设 nums = [3, 4, -1, 1]，初始时 i=0：执行 nums[i], nums[nums[i]-1] = nums[nums[i]-1], nums[i]：右边求值为 nums[3-1] = nums[2] = -1 和 nums[0] = 3，生成临时元组 (-1, 3)。先赋值 nums[i] = -1（此时 i=0，nums[0] 被修改为 -1）。然后计算 nums[nums[i]-1]，此时 nums[i] 已经是 -1，因此索引为 -1-1 = -2（等价于 nums[-2]，即倒数第二个元素 4）。最终将 nums[-2]赋值为 3，结果：nums 变为 [-1, 4, 3, 1]，交换完全错误！"
   ]
  },
  {
   "cell_type": "code",
   "execution_count": null,
   "id": "75d67fa6",
   "metadata": {
    "vscode": {
     "languageId": "plaintext"
    }
   },
   "outputs": [],
   "source": [
    "class Solution(object):\n",
    "    def firstMissingPositive(self, nums):\n",
    "        \"\"\"\n",
    "        :type nums: List[int]\n",
    "        :rtype: int\n",
    "        \"\"\"\n",
    "        for i in range(len(nums)):\n",
    "            # 先判断这个数字是不是索引，然后判断这个数字是不是放在了正确的地方\n",
    "            # 正确的地方，e.g 1 一定在第 0 个位置上， nums[i] = i + 1\n",
    "            while nums[i] >= 1 and nums[i] <= len(nums) and nums[i] != nums[nums[i] - 1]:\n",
    "                temp = nums[nums[i] - 1]\n",
    "                nums[nums[i] - 1] = nums[i]\n",
    "                nums[i] = temp\n",
    "            \n",
    "        for i in range(len(nums)):\n",
    "            if i + 1 != nums[i]:\n",
    "                return i + 1\n",
    "\n",
    "        return len(nums) + 1\n",
    "\n",
    "# 使用temp进行这样的调整后通过测试。\n",
    "# 注：temp交换顺序存在要求，应该先调整nums[nums[i] - 1]，若先改变了nums[i]，nums[nums[i] - 1]的下标会随之变化。"
   ]
  },
  {
   "cell_type": "code",
   "execution_count": null,
   "id": "27cdec38",
   "metadata": {
    "vscode": {
     "languageId": "plaintext"
    }
   },
   "outputs": [],
   "source": [
    "from typing import List\n",
    "\n",
    "\n",
    "class Solution:\n",
    "\n",
    "    # 3 应该放在索引为 2 的地方\n",
    "    # 4 应该放在索引为 3 的地方\n",
    "\n",
    "    def firstMissingPositive(self, nums: List[int]) -> int:\n",
    "        size = len(nums)\n",
    "        for i in range(size):\n",
    "            # 先判断这个数字是不是索引，然后判断这个数字是不是放在了正确的地方\n",
    "            while 1 <= nums[i] <= size and nums[i] != nums[nums[i] - 1]:\n",
    "                self.__swap(nums, i, nums[i] - 1)\n",
    "\n",
    "        for i in range(size):\n",
    "            if i + 1 != nums[i]:\n",
    "                return i + 1\n",
    "\n",
    "        return size + 1\n",
    "\n",
    "    def __swap(self, nums, index1, index2):\n",
    "        nums[index1], nums[index2] = nums[index2], nums[index1]\n",
    "\n",
    "作者：liweiwei1419\n",
    "链接：https://leetcode.cn/problems/first-missing-positive/solutions/7703/tong-pai-xu-python-dai-ma-by-liweiwei1419/\n",
    "来源：力扣（LeetCode）\n",
    "著作权归作者所有。商业转载请联系作者获得授权，非商业转载请注明出处。"
   ]
  }
 ],
 "metadata": {
  "language_info": {
   "name": "python"
  }
 },
 "nbformat": 4,
 "nbformat_minor": 5
}
