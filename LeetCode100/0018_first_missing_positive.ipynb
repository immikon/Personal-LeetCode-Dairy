{
 "cells": [
  {
   "cell_type": "markdown",
   "id": "34f16c04",
   "metadata": {},
   "source": [
    "# 18. 缺失的第一个正数 \n",
    "\n",
    "给你一个未排序的整数数组 `nums` ，请你找出其中没有出现的最小的正整数。\n",
    "\n",
    "请你实现时间复杂度为 `O(n)` 并且只使用常数级别额外空间的解决方案。\n",
    "\n",
    "**示例 1：** \n",
    "\n",
    "> **输入：** nums = \\[1,2,0]\n",
    "> **输出：** 3\n",
    "> **解释：** 范围 \\[1,2] 中的数字都在数组中。\n",
    "\n",
    "**示例 2：** \n",
    "\n",
    "> **输入：** nums = \\[3,4,\\-1,1]\n",
    "> **输出：** 2\n",
    "> **解释：** 1 在数组中，但 2 没有。\n",
    "\n",
    "**示例 3：** \n",
    "\n",
    "> **输入：** nums = \\[7,8,9,11,12]\n",
    "> **输出：** 1\n",
    "> **解释：** 最小的正数 1 没有出现。\n",
    "\n",
    "**提示：** \n",
    "\n",
    "*   `1 <= nums.length <= 10^5`\n",
    "*   `-2^31 <= nums[i] <= 2^31 - 1`"
   ]
  },
  {
   "cell_type": "code",
   "execution_count": null,
   "id": "e71384a9",
   "metadata": {
    "vscode": {
     "languageId": "plaintext"
    }
   },
   "outputs": [],
   "source": [
    "class Solution(object):\n",
    "    def firstMissingPositive(self, nums):\n",
    "        \"\"\"\n",
    "        :type nums: List[int]\n",
    "        :rtype: int\n",
    "        \"\"\"\n",
    "        k = set()\n",
    "        for i in nums:\n",
    "            if i > 0:\n",
    "                k.add(i)\n",
    "        for i in range(1, len(nums) + 1):\n",
    "            if i not in k:\n",
    "                return i\n",
    "        return len(nums) + 1\n",
    "        "
   ]
  },
  {
   "cell_type": "code",
   "execution_count": null,
   "id": "c95c2e9b",
   "metadata": {
    "vscode": {
     "languageId": "plaintext"
    }
   },
   "outputs": [],
   "source": [
    "class Solution(object):\n",
    "    def firstMissingPositive(self, nums):\n",
    "        \"\"\"\n",
    "        :type nums: List[int]\n",
    "        :rtype: int\n",
    "        \"\"\"\n",
    "        k = defaultdict(int)\n",
    "        for i in nums:\n",
    "            if i > 0:\n",
    "                k[i] += 1\n",
    "        for i in range(1, len(nums) + 1):\n",
    "            if k[i] == 0:\n",
    "                return i\n",
    "        return len(nums) + 1\n",
    "        "
   ]
  },
  {
   "cell_type": "markdown",
   "id": "1814abbd",
   "metadata": {},
   "source": [
    "以上两种方法分别使用了`dict`与`set`作为存储工具，在python中，解决**是否存在**的问题时，使用`set`更优。\n",
    "\n",
    "但本问题的难点在于实现O(1)空间复杂度的算法。\n",
    "\n",
    "以上算法虽然都达到了O(n)的时间复杂度，但在空间复杂度上都未达到要求，要达到常数级的空间复杂度，可能需要考虑原地算法。"
   ]
  },
  {
   "cell_type": "code",
   "execution_count": null,
   "id": "50d336da",
   "metadata": {
    "vscode": {
     "languageId": "plaintext"
    }
   },
   "outputs": [],
   "source": [
    "class Solution(object):\n",
    "    def firstMissingPositive(self, nums):\n",
    "        \"\"\"\n",
    "        :type nums: List[int]\n",
    "        :rtype: int\n",
    "        \"\"\"\n",
    "        for i in range(len(nums)):\n",
    "            # 先判断这个数字是不是索引，然后判断这个数字是不是放在了正确的地方\n",
    "            # 正确的地方，e.g 1 一定在第 0 个位置上， nums[i] = i + 1\n",
    "            while nums[i] >= 1 and nums[i] <= len(nums) and nums[i] != nums[nums[i] - 1]:\n",
    "                nums[i], nums[nums[i] - 1] = nums[nums[i] - 1], nums[i]\n",
    "            \n",
    "        for i in range(len(nums)):\n",
    "            if i + 1 != nums[i]:\n",
    "                return i + 1\n",
    "\n",
    "        return len(nums) + 1\n",
    "\n",
    "# 参照了博主的做法，但这一代码在力扣python中运行显示超时，而原代码在python3中正常运行，目前尚不清楚原因。"
   ]
  },
  {
   "cell_type": "markdown",
   "id": "4fd4bb5f",
   "metadata": {},
   "source": [
    "**据称：** \n",
    "\n",
    "python方法不能写为 nums[i], nums[nums[i]-1] = nums[nums[i]-1], nums[i]的原因： \n",
    "\n",
    "执行时右边的表达式会先被求值，生成一个临时元组（例如 (x, y)），然后依次赋值给左边的 nums[i] 和 nums[nums[i]-1]；在赋值过程中，nums[i]的值会被先修改，当执行到第二个赋值 nums[nums[i]-1] 时，此时的 nums[i] 已经是交换后的新值（不再是原来的值）。\n",
    "示例说明：假设 nums = [3, 4, -1, 1]，初始时 i=0：执行 nums[i], nums[nums[i]-1] = nums[nums[i]-1], nums[i]：右边求值为 nums[3-1] = nums[2] = -1 和 nums[0] = 3，生成临时元组 (-1, 3)。先赋值 nums[i] = -1（此时 i=0，nums[0] 被修改为 -1）。然后计算 nums[nums[i]-1]，此时 nums[i] 已经是 -1，因此索引为 -1-1 = -2（等价于 nums[-2]，即倒数第二个元素 4）。最终将 nums[-2]赋值为 3，结果：nums 变为 [-1, 4, 3, 1]，交换完全错误！"
   ]
  },
  {
   "cell_type": "code",
   "execution_count": null,
   "id": "75d67fa6",
   "metadata": {
    "vscode": {
     "languageId": "plaintext"
    }
   },
   "outputs": [],
   "source": [
    "class Solution(object):\n",
    "    def firstMissingPositive(self, nums):\n",
    "        \"\"\"\n",
    "        :type nums: List[int]\n",
    "        :rtype: int\n",
    "        \"\"\"\n",
    "        for i in range(len(nums)):\n",
    "            # 先判断这个数字是不是索引，然后判断这个数字是不是放在了正确的地方\n",
    "            # 正确的地方，e.g 1 一定在第 0 个位置上， nums[i] = i + 1\n",
    "            while nums[i] >= 1 and nums[i] <= len(nums) and nums[i] != nums[nums[i] - 1]:\n",
    "                temp = nums[nums[i] - 1]\n",
    "                nums[nums[i] - 1] = nums[i]\n",
    "                nums[i] = temp\n",
    "            \n",
    "        for i in range(len(nums)):\n",
    "            if i + 1 != nums[i]:\n",
    "                return i + 1\n",
    "\n",
    "        return len(nums) + 1\n",
    "\n",
    "# 使用temp进行这样的调整后通过测试。\n",
    "# 注：temp交换顺序存在要求，应该先调整nums[nums[i] - 1]，若先改变了nums[i]，nums[nums[i] - 1]的下标会随之变化。"
   ]
  },
  {
   "cell_type": "code",
   "execution_count": null,
   "id": "27cdec38",
   "metadata": {
    "vscode": {
     "languageId": "plaintext"
    }
   },
   "outputs": [],
   "source": [
    "from typing import List\n",
    "\n",
    "\n",
    "class Solution:\n",
    "\n",
    "    # 3 应该放在索引为 2 的地方\n",
    "    # 4 应该放在索引为 3 的地方\n",
    "\n",
    "    def firstMissingPositive(self, nums: List[int]) -> int:\n",
    "        size = len(nums)\n",
    "        for i in range(size):\n",
    "            # 先判断这个数字是不是索引，然后判断这个数字是不是放在了正确的地方\n",
    "            while 1 <= nums[i] <= size and nums[i] != nums[nums[i] - 1]:\n",
    "                self.__swap(nums, i, nums[i] - 1)\n",
    "\n",
    "        for i in range(size):\n",
    "            if i + 1 != nums[i]:\n",
    "                return i + 1\n",
    "\n",
    "        return size + 1\n",
    "\n",
    "    def __swap(self, nums, index1, index2):\n",
    "        nums[index1], nums[index2] = nums[index2], nums[index1]\n",
    "\n",
    "作者：liweiwei1419\n",
    "链接：https://leetcode.cn/problems/first-missing-positive/solutions/7703/tong-pai-xu-python-dai-ma-by-liweiwei1419/\n",
    "来源：力扣（LeetCode）\n",
    "著作权归作者所有。商业转载请联系作者获得授权，非商业转载请注明出处。"
   ]
  },
  {
   "cell_type": "markdown",
   "id": "9d8ed654",
   "metadata": {},
   "source": [
    "### Q: 使用`nums[i] != nums[nums[i] - 1]`进行判断的原因？\n",
    "\n",
    "#### By Gemini:\n",
    "\n",
    "好的，这是一个非常核心且精妙的问题。简单来说，这两个条件服务于算法中两个完全不同的阶段，扮演着不同的角色：\n",
    "\n",
    "* `nums[i] == i+1` 是**“验证官”**：用于检查数组是否达到了**最终的理想状态**。\n",
    "* `nums[i] != nums[nums[i] - 1]` 是**“调度员”**：用于判断一次交换是否**有意义、能推进排序且不会死循环**。\n",
    "\n",
    "让我们来深入剖析。\n",
    "\n",
    "### 1. `nums[i] == i+1` (理想状态的检查官)\n",
    "\n",
    "这个条件是用来描述我们的**最终目标**的。在所有元素都被放到正确的位置后，数组应该呈现这样的理想状态：\n",
    "* `nums[0]` 应该是 `1`\n",
    "* `nums[1]` 应该是 `2`\n",
    "* `nums[2]` 应该是 `3`\n",
    "* ...\n",
    "* `nums[i]` 应该是 `i+1`\n",
    "\n",
    "所以，这个条件的作用非常纯粹：在**重排阶段完全结束之后**，我们从头到尾检查一遍，找到第一个不满足这个理想条件的“瑕疵点”。这个“瑕疵点”的索引 `i` 对应的理想数字 `i+1`，就是我们要找的第一个缺失的正整数。\n",
    "\n",
    "**它不能用于交换判断**，因为它只关心当前位置 `i` 对不对，而不关心 `nums[i]` 这个值应该去哪里，以及它的目的地现在是什么状况。\n",
    "\n",
    "---\n",
    "\n",
    "### 2. `nums[i] != nums[nums[i] - 1]` (高效的调度员)\n",
    "\n",
    "这个条件是整个原地哈希算法的精髓，它在**重排阶段**的 `while` 循环中使用，用来回答一个关键问题：\n",
    "\n",
    "> “对于当前数字 `nums[i]`，将它和它目标位置上的数字进行交换，这有意义吗？”\n",
    "\n",
    "让我们把它拆解开来看：\n",
    "* `nums[i]`：这是我们当前正要处理的数字，我们称它为 **“待归位的数字”**。\n",
    "* `nums[i] - 1`：这是 “待归位的数字” **应该去的“目标索引”**。\n",
    "* `nums[nums[i] - 1]`：这是 **“目标索引”上现在已经存在的数字**。\n",
    "\n",
    "所以，`nums[i] != nums[nums[i] - 1]` 的字面意思就是：\n",
    "\n",
    "> “待归位的数字”不等于它“目标索引”上已经存在的数字。\n",
    "\n",
    "这个条件之所以至关重要，主要有两个原因：\n",
    "\n",
    "#### **原因一：避免和自己交换，防止无限循环**\n",
    "\n",
    "这是最核心的原因，尤其是在处理**重复数字**时。\n",
    "\n",
    "**假设 `nums = [1, 3, 3]`**，`i` 遍历到 `1`。\n",
    "* 此时 `nums[1]` 是 `3`。\n",
    "* 它的“目标索引”是 `3 - 1 = 2`。\n",
    "* “目标索引”上的数字是 `nums[2]`，也是 `3`。\n",
    "\n",
    "现在我们来检查 `while` 循环的条件：\n",
    "* `1 <= nums[1] <= 3`  ( `1 <= 3 <= 3` ) -> **True**\n",
    "* `nums[1] != nums[nums[1] - 1]` ( `3 != nums[2]` -> `3 != 3` ) -> **False**\n",
    "\n",
    "因为第二个条件为 `False`，`while` 循环不会执行。程序避免了将 `nums[1]` 的 `3` 和 `nums[2]` 的 `3` 进行一次毫无意义的交换。\n",
    "\n",
    "**如果没有这个条件会怎样？**\n",
    "程序会执行 `swap(nums[1], nums[2])`，`[1, 3, 3]` 交换后还是 `[1, 3, 3]`。`while` 循环再次判断，条件依然成立，再次交换... **程序陷入无限循环，导致超时！**\n",
    "\n",
    "#### **原因二：确保交换是“有进展的”**\n",
    "\n",
    "这个条件也确保了每一次交换都是有效的。如果 `nums[i]` 的目标位置上已经坐着一个和它一样的数字，说明那个位置已经是“正确”的了（至少对于这个数值来说），我们就不需要再做一次交换，可以直接处理下一个位置的数字了。\n",
    "\n",
    "### 总结\n",
    "\n",
    "| 特性 | `nums[i] == i + 1` | `nums[i] != nums[nums[i] - 1]` |\n",
    "| :--- | :--- | :--- |\n",
    "| **使用阶段** | **验证阶段** (第二个 `for` 循环) | **重排阶段** (第一个 `for` 循环内的 `while` ) |\n",
    "| **角色** | **理想状态的“检查官”** | **决定是否交换的“调度员”** |\n",
    "| **回答的问题** | “当前 `i` 位置上的数字对吗？” | “把 `nums[i]` 换到它该去的位置，有意义吗？” |\n",
    "| **核心功能** | 找出第一个不符合最终排序的元素 | 避免在有重复元素时发生无效交换，从而**防止死循环** |\n",
    "\n",
    "简单来说，你不能用“检查官”去做“调度员”的工作，也不能反过来。它们是为算法不同阶段量身定做的、不可互换的两个关键条件。"
   ]
  }
 ],
 "metadata": {
  "language_info": {
   "name": "python"
  }
 },
 "nbformat": 4,
 "nbformat_minor": 5
}
