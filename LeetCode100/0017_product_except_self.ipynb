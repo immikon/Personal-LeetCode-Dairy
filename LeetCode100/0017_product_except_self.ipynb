{
 "cells": [
  {
   "cell_type": "markdown",
   "id": "19353dd3",
   "metadata": {},
   "source": [
    "# 17. 除自身以外数组的乘积 \n",
    "\n",
    "给你一个整数数组 `nums`，返回 数组 `answer` ，其中 `answer[i]` 等于 `nums` 中除 `nums[i]` 之外其余各元素的乘积 。\n",
    "\n",
    "题目数据 **保证**  数组 `nums`之中任意元素的全部前缀元素和后缀的乘积都在  **32 位**  整数范围内。\n",
    "\n",
    "请 **不要使用除法，** 且在 `O(n)` 时间复杂度内完成此题。\n",
    "\n",
    "**示例 1:** \n",
    "\n",
    "> **输入:**  nums = `[1,2,3,4]`\n",
    "> **输出:**  `[24,12,8,6]`\n",
    "> \n",
    "\n",
    "**示例 2:** \n",
    "\n",
    "> **输入:**  nums = \\[\\-1,1,0,\\-3,3]\n",
    "> **输出:**  \\[0,0,9,0,0]\n",
    "> \n",
    "\n",
    "**提示：** \n",
    "\n",
    "*   `2 <= nums.length <= 10^5`\n",
    "*   `-30 <= nums[i] <= 30`\n",
    "*   输入 **保证**  数组 `answer[i]` 在  **32 位**  整数范围内\n",
    "\n",
    "**进阶：** 你可以在 `O(1)` 的额外空间复杂度内完成这个题目吗？（ 出于对空间复杂度分析的目的，输出数组 **不被视为**  额外空间。）"
   ]
  },
  {
   "cell_type": "code",
   "execution_count": null,
   "id": "5dbad9a3",
   "metadata": {
    "vscode": {
     "languageId": "plaintext"
    }
   },
   "outputs": [],
   "source": [
    "class Solution(object):\n",
    "    def productExceptSelf(self, nums):\n",
    "        \"\"\"\n",
    "        :type nums: List[int]\n",
    "        :rtype: List[int]\n",
    "        \"\"\"\n",
    "        n = len(nums)\n",
    "        ans = [1] * n\n",
    "        # 若能使用除法，只需要一次遍历计算总乘积，一次遍历计算answer\n",
    "        # 不能使用除法的情况下，暴力算法消耗O(n^2)\n",
    "        tmp = 1\n",
    "        for i in range(1, len(nums)):\n",
    "            ans[i] = ans[i - 1] * nums[i - 1] # 下三角\n",
    "        for i in range(len(nums) - 2, -1, -1):\n",
    "            tmp *= nums[i + 1]                # 上三角\n",
    "            ans[i] *= tmp                     # 下三角 * 上三角\n",
    "        return ans"
   ]
  }
 ],
 "metadata": {
  "language_info": {
   "name": "python"
  }
 },
 "nbformat": 4,
 "nbformat_minor": 5
}
