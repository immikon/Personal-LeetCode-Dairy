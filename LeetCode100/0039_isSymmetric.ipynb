{
 "cells": [
  {
   "cell_type": "markdown",
   "id": "032e713d",
   "metadata": {},
   "source": [
    "# 39. 对称二叉树 \n",
    "\n",
    "给你一个二叉树的根节点 `root` ， 检查它是否轴对称。\n",
    "\n",
    "**示例 1：** \n",
    "\n",
    "![](https://pic.leetcode.cn/1698026966-JDYPDU-image.png)\n",
    "> **输入：** root = \\[1,2,2,3,4,4,3]\n",
    "> **输出：** true\n",
    "> \n",
    "\n",
    "**示例 2：** \n",
    "\n",
    "![](https://pic.leetcode.cn/1698027008-nPFLbM-image.png)\n",
    "> **输入：** root = \\[1,2,2,null,3,null,3]\n",
    "> **输出：** false\n",
    "> \n",
    "\n",
    "**提示：** \n",
    "\n",
    "*   树中节点数目在范围 `[1, 1000]` 内\n",
    "*   `-100 <= Node.val <= 100`\n",
    "\n",
    "**进阶：** 你可以运用递归和迭代两种方法解决这个问题吗？"
   ]
  },
  {
   "cell_type": "markdown",
   "id": "413005f1",
   "metadata": {},
   "source": [
    "#### 层序遍历\n",
    "\n",
    "第一个是初见构思出来的笨方法，为了达到按层读取比较的效果，开辟了一个额外的空间，产生了冗余\n",
    "\n",
    "第二个层序方法更加优雅一些"
   ]
  },
  {
   "cell_type": "code",
   "execution_count": null,
   "id": "cceae2cc",
   "metadata": {
    "vscode": {
     "languageId": "plaintext"
    }
   },
   "outputs": [],
   "source": [
    "# Definition for a binary tree node.\n",
    "# class TreeNode(object):\n",
    "#     def __init__(self, val=0, left=None, right=None):\n",
    "#         self.val = val\n",
    "#         self.left = left\n",
    "#         self.right = right\n",
    "class Solution(object):\n",
    "    def isSymmetric(self, root):\n",
    "        \"\"\"\n",
    "        :type root: Optional[TreeNode]\n",
    "        :rtype: bool\n",
    "        \"\"\"\n",
    "        # 检查树的对称性\n",
    "        # 按层序来做，对每一层判断是否对称\n",
    "        if not root:\n",
    "            return True\n",
    "        queue = [root]\n",
    "        while queue:\n",
    "            tmp = []\n",
    "            nxt = []\n",
    "            # 计数\n",
    "            num = 0\n",
    "            for node in queue:\n",
    "                tmp.append(node.left)\n",
    "                num += 1\n",
    "                tmp.append(node.right)\n",
    "                num += 1\n",
    "                if node.left:\n",
    "                    nxt.append(node.left)\n",
    "                if node.right:\n",
    "                    nxt.append(node.right)\n",
    "            # tmp中存储了下一层的节点\n",
    "            # 在这里使用遍历的方式判断对称性的话，会产生 n 的复杂度\n",
    "            for i in range(0, num/2):\n",
    "                if not tmp[i] and not tmp[num - 1 - i]:\n",
    "                    continue\n",
    "                if not tmp[i] or not tmp[num - 1 -i] or tmp[i].val != tmp[num - 1 - i].val:\n",
    "                    return False\n",
    "            # 做判断时需要保留 null, 但传递至下一层时不能够留下 null\n",
    "            # 可以再构造一个 list 用来存储没有 null 的下一层\n",
    "            queue = nxt\n",
    "        return True"
   ]
  },
  {
   "cell_type": "markdown",
   "id": "e32b2193",
   "metadata": {},
   "source": [
    "按照内外侧来读入与比较。从外到内，两两比较，避免了在内部添加循环，也避免了开辟额外的空间。"
   ]
  },
  {
   "cell_type": "code",
   "execution_count": null,
   "id": "4d1930f4",
   "metadata": {
    "vscode": {
     "languageId": "plaintext"
    }
   },
   "outputs": [],
   "source": [
    "# Definition for a binary tree node.\n",
    "# class TreeNode(object):\n",
    "#     def __init__(self, val=0, left=None, right=None):\n",
    "#         self.val = val\n",
    "#         self.left = left\n",
    "#         self.right = right\n",
    "class Solution(object):\n",
    "    def isSymmetric(self, root):\n",
    "        \"\"\"\n",
    "        :type root: TreeNode\n",
    "        :rtype: bool\n",
    "        \"\"\"\n",
    "        if not root:\n",
    "            return True\n",
    "        \n",
    "        # 使用双端队列，比 list 的 pop(0) 效率更高\n",
    "        queue = collections.deque([root.left, root.right])\n",
    "        \n",
    "        while queue:\n",
    "            # 每次从队列中取出两个节点进行比较\n",
    "            t1 = queue.popleft()\n",
    "            t2 = queue.popleft()\n",
    "            \n",
    "            # 如果两个节点都是 None, 说明这对是OK的，继续比较下一对\n",
    "            if not t1 and not t2:\n",
    "                continue\n",
    "            \n",
    "            # 如果只有一个是 None，或者两个节点的值不相等，则不对称\n",
    "            if not t1 or not t2 or t1.val != t2.val:\n",
    "                return False\n",
    "            \n",
    "            # 核心：按镜像顺序将子节点加入队列\n",
    "            # 外侧节点对 (t1.left, t2.right)\n",
    "            queue.append(t1.left)\n",
    "            queue.append(t2.right)\n",
    "            \n",
    "            # 内侧节点对 (t1.right, t2.left)\n",
    "            queue.append(t1.right)\n",
    "            queue.append(t2.left)\n",
    "            \n",
    "        return True"
   ]
  },
  {
   "cell_type": "markdown",
   "id": "30301f4c",
   "metadata": {},
   "source": [
    "#### 递归方法"
   ]
  },
  {
   "cell_type": "markdown",
   "id": "07805b30",
   "metadata": {},
   "source": [
    "思想上也是一样的，对称性，从内外侧下手"
   ]
  },
  {
   "cell_type": "code",
   "execution_count": null,
   "id": "8b57f14b",
   "metadata": {
    "vscode": {
     "languageId": "plaintext"
    }
   },
   "outputs": [],
   "source": [
    "# Definition for a binary tree node.\n",
    "# class TreeNode(object):\n",
    "#     def __init__(self, val=0, left=None, right=None):\n",
    "#         self.val = val\n",
    "#         self.left = left\n",
    "#         self.right = right\n",
    "class Solution(object):\n",
    "    def isSymmetric(self, root):\n",
    "        \"\"\"\n",
    "        :type root: TreeNode\n",
    "        :rtype: bool\n",
    "        \"\"\"\n",
    "        if not root:\n",
    "            return True\n",
    "        \n",
    "        # 定义一个辅助函数，比较两棵子树是否镜像对称\n",
    "        def isMirror(t1, t2):\n",
    "            # Case 1: 两个节点都为 None，对称\n",
    "            if not t1 and not t2:\n",
    "                return True\n",
    "            # Case 2: 其中一个为 None，另一个不为 None，不对称\n",
    "            if not t1 or not t2:\n",
    "                return False\n",
    "            # Case 3: 两个节点的值不相等，不对称\n",
    "            if t1.val != t2.val:\n",
    "                return False\n",
    "            \n",
    "            # Case 4: 递归比较\n",
    "            # t1的左子树必须和t2的右子树镜像对称\n",
    "            # 并且t1的右子树必须和t2的左子树镜像对称\n",
    "            return isMirror(t1.left, t2.right) and isMirror(t1.right, t2.left)\n",
    "\n",
    "        # 初始调用：比较根节点的左子树和右子树\n",
    "        return isMirror(root.left, root.right)"
   ]
  }
 ],
 "metadata": {
  "language_info": {
   "name": "python"
  }
 },
 "nbformat": 4,
 "nbformat_minor": 5
}
