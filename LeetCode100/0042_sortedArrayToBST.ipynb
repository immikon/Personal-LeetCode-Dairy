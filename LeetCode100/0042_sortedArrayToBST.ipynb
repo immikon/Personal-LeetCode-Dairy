{
 "cells": [
  {
   "cell_type": "markdown",
   "id": "b5b0fc1e",
   "metadata": {},
   "source": [
    "# 42. 将有序数组转换为二叉搜索树 \n",
    "\n",
    "给你一个整数数组 `nums` ，其中元素已经按 **升序**  排列，请你将其转换为一棵 平衡 二叉搜索树。\n",
    "\n",
    "**示例 1：** \n",
    "\n",
    "![](https://assets.leetcode.com/uploads/2021/02/18/btree1.jpg)\n",
    "> **输入：** nums = \\[\\-10,\\-3,0,5,9]\n",
    "> **输出：** \\[0,\\-3,9,\\-10,null,5]\n",
    "> **解释：** \\[0,\\-10,5,null,\\-3,null,9] 也将被视为正确答案：\n",
    "> ![](https://assets.leetcode.com/uploads/2021/02/18/btree2.jpg)\n",
    "> \n",
    "\n",
    "**示例 2：** \n",
    "\n",
    "![](https://assets.leetcode.com/uploads/2021/02/18/btree.jpg)\n",
    "> **输入：** nums = \\[1,3]\n",
    "> **输出：** \\[3,1]\n",
    "> **解释：** \\[1,null,3] 和 \\[3,1] 都是高度平衡二叉搜索树。\n",
    "> \n",
    "\n",
    "**提示：** \n",
    "\n",
    "*   `1 <= nums.length <= 10^4`\n",
    "*   `-10^4 <= nums[i] <= 10^4`\n",
    "*   `nums` 按 **严格递增**  顺序排列"
   ]
  },
  {
   "cell_type": "code",
   "execution_count": null,
   "id": "22542b50",
   "metadata": {
    "vscode": {
     "languageId": "plaintext"
    }
   },
   "outputs": [],
   "source": [
    "# Definition for a binary tree node.\n",
    "# class TreeNode(object):\n",
    "#     def __init__(self, val=0, left=None, right=None):\n",
    "#         self.val = val\n",
    "#         self.left = left\n",
    "#         self.right = right\n",
    "class Solution(object):\n",
    "    def sortedArrayToBST(self, nums):\n",
    "        \"\"\"\n",
    "        :type nums: List[int]\n",
    "        :rtype: Optional[TreeNode]\n",
    "        \"\"\"\n",
    "        # 将升序排列的数组转换为平衡二叉搜索树\n",
    "        # 平衡二叉搜索树：左子树所有节点小于根节点值，右子树大于\n",
    "        # 并且左右子树高度差不大于1\n",
    "        if not nums:\n",
    "            return\n",
    "        n = len(nums) // 2\n",
    "        left = self.sortedArrayToBST(nums[:n])\n",
    "        right = self.sortedArrayToBST(nums[n+1:])\n",
    "        return TreeNode(nums[n], left, right)\n",
    "        "
   ]
  }
 ],
 "metadata": {
  "language_info": {
   "name": "python"
  }
 },
 "nbformat": 4,
 "nbformat_minor": 5
}
