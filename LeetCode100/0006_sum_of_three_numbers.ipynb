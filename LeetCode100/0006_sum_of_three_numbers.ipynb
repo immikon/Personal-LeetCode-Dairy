{
 "cells": [
  {
   "cell_type": "markdown",
   "id": "db2c0d7e",
   "metadata": {},
   "source": [
    "# 6. 三数之和 \n",
    "\n",
    "给你一个整数数组 `nums` ，判断是否存在三元组 `[nums[i], nums[j], nums[k]]` 满足 `i != j`、`i != k` 且 `j != k` ，同时还满足 `nums[i] + nums[j] + nums[k] == 0` 。请你返回所有和为 `0` 且不重复的三元组。\n",
    "\n",
    "**注意：** 答案中不可以包含重复的三元组。\n",
    "\n",
    "**示例 1：** \n",
    "\n",
    "> **输入：** nums = \\[\\-1,0,1,2,\\-1,\\-4]\n",
    "> **输出：** \\[\\[\\-1,\\-1,2],\\[\\-1,0,1]]\n",
    "> **解释：** \n",
    "> nums\\[0] \\+ nums\\[1] \\+ nums\\[2] = \\(\\-1\\) \\+ 0 \\+ 1 = 0 。\n",
    "> nums\\[1] \\+ nums\\[2] \\+ nums\\[4] = 0 \\+ 1 \\+ \\(\\-1\\) = 0 。\n",
    "> nums\\[0] \\+ nums\\[3] \\+ nums\\[4] = \\(\\-1\\) \\+ 2 \\+ \\(\\-1\\) = 0 。\n",
    "> 不同的三元组是 \\[\\-1,0,1] 和 \\[\\-1,\\-1,2] 。\n",
    "> 注意，输出的顺序和三元组的顺序并不重要。\n",
    "> \n",
    "\n",
    "**示例 2：** \n",
    "\n",
    "> **输入：** nums = \\[0,1,1]\n",
    "> **输出：** \\[]\n",
    "> **解释：** 唯一可能的三元组和不为 0 。\n",
    "> \n",
    "\n",
    "**示例 3：** \n",
    "\n",
    "> **输入：** nums = \\[0,0,0]\n",
    "> **输出：** \\[\\[0,0,0]]\n",
    "> **解释：** 唯一可能的三元组和为 0 。\n",
    "> \n",
    "\n",
    "**提示：** \n",
    "\n",
    "*   `3 <= nums.length <= 3000`\n",
    "*   `-10^5 <= nums[i] <= 10^5`"
   ]
  },
  {
   "cell_type": "code",
   "execution_count": null,
   "id": "7a0e89f2",
   "metadata": {
    "vscode": {
     "languageId": "plaintext"
    }
   },
   "outputs": [],
   "source": [
    "#排序后双指针\n",
    "class Solution(object):\n",
    "    def threeSum(self, nums):\n",
    "        \"\"\"\n",
    "        :type nums: List[int]\n",
    "        :rtype: List[List[int]]\n",
    "        \"\"\"\n",
    "        snums = sorted(nums)\n",
    "        p1 = 0\n",
    "        p2 = len(nums) - 1\n",
    "        final = []\n",
    "        for p1 in range(len(nums)):\n",
    "            if p1 > 0 and snums[p1 - 1] == snums[p1]:\n",
    "                continue\n",
    "            for i in range(p1 + 1, len(nums)):\n",
    "                if i > p1 + 1 and snums[i - 1] == snums[i]:\n",
    "                    continue\n",
    "                while i < p2 and snums[i] + snums[p2] + snums[p1] > 0:\n",
    "                    p2 -= 1\n",
    "                if i == p2:\n",
    "                    break\n",
    "                if snums[i] + snums[p2] + snums[p1] == 0:\n",
    "                    final.append([snums[p1], snums[i], snums[p2]])\n",
    "            p2 = len(nums) - 1\n",
    "        return final"
   ]
  },
  {
   "cell_type": "markdown",
   "id": "a0d0dc00",
   "metadata": {},
   "source": [
    "一般的暴力做法，会产生三层遍历，带来O(n^3)的复杂度。\n",
    "\n",
    "使用双指针，使得复杂度降低到O(n^2)。\n",
    "\n",
    "对于这个问题，重复性通过排序的手段被解决了。\n",
    "\n",
    "每一个循环中，第一个指针被置于一串重复数字的开头，第二个被置于第一个指针后，第三个指针则从末尾开始向内移动，直到接触第二指针。"
   ]
  }
 ],
 "metadata": {
  "language_info": {
   "name": "python"
  }
 },
 "nbformat": 4,
 "nbformat_minor": 5
}
