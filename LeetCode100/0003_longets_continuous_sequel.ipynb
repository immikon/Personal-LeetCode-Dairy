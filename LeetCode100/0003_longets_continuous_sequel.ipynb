{
 "cells": [
  {
   "cell_type": "markdown",
   "id": "48660327",
   "metadata": {},
   "source": [
    "# 3. 最长连续序列 \n",
    "\n",
    "给定一个未排序的整数数组 `nums` ，找出数字连续的最长序列（不要求序列元素在原数组中连续）的长度。\n",
    "\n",
    "请你设计并实现时间复杂度为 `O(n)` 的算法解决此问题。\n",
    "\n",
    "**示例 1：** \n",
    "\n",
    "> **输入：** nums = \\[100,4,200,1,3,2]\n",
    "> **输出：** 4\n",
    "> **解释：** 最长数字连续序列是 \\[1, 2, 3, 4]。它的长度为 4。\n",
    "\n",
    "**示例 2：** \n",
    "\n",
    "> **输入：** nums = \\[0,3,7,2,5,8,4,6,0,1]\n",
    "> **输出：** 9\n",
    "> \n",
    "\n",
    "**示例 3：** \n",
    "\n",
    "> **输入：** nums = \\[1,0,1,2]\n",
    "> **输出：** 3\n",
    "> \n",
    "\n",
    "**提示：** \n",
    "\n",
    "*   `0 <= nums.length <= 10^5`\n",
    "*   `-10^9 <= nums[i] <= 10^9`\n",
    "\n",
    "# 解法"
   ]
  },
  {
   "cell_type": "code",
   "execution_count": null,
   "id": "fd7c8d80",
   "metadata": {
    "vscode": {
     "languageId": "plaintext"
    }
   },
   "outputs": [],
   "source": [
    "#哈希表\n",
    "class Solution(object):\n",
    "    def longestConsecutive(self, nums):\n",
    "        \"\"\"\n",
    "        :type nums: List[int]\n",
    "        :rtype: int\n",
    "        \"\"\"\n",
    "        idx = set(nums)\n",
    "        max_cnt = 0\n",
    "        for i in idx:\n",
    "            if i - 1 not in idx:\n",
    "                cnt = 1\n",
    "                starter = i\n",
    "                while starter + 1 in idx:\n",
    "                    cnt += 1\n",
    "                    starter += 1\n",
    "                max_cnt = max(cnt, max_cnt)\n",
    "        return max_cnt"
   ]
  },
  {
   "cell_type": "markdown",
   "id": "b30aed58",
   "metadata": {},
   "source": [
    "对于这个问题，暴力方法需要嵌套遍历，达到n^2的复杂度。\n",
    "\n",
    "如果使用哈希表，在查找时就可以将O(n)复杂度简化为O(1)。（在0001中提到了set、dict的查找均为哈希形式）\n",
    "\n",
    "因此，在开头将列表转化为set，便于后续操作。\n",
    "\n",
    "在内部进行查找时，我们优先确认set中一组连续数里最小的，即在 set 中没有 i - 1 的对象，再由它开始记录最长连续数值。\n",
    "\n",
    "对每一个连续最小数的连续值进行比较，确认连续的最大值。"
   ]
  }
 ],
 "metadata": {
  "language_info": {
   "name": "python"
  }
 },
 "nbformat": 4,
 "nbformat_minor": 5
}
