{
 "cells": [
  {
   "cell_type": "markdown",
   "id": "8a46f8d4",
   "metadata": {},
   "source": [
    "# 2. 字母异位词分组 \n",
    "\n",
    "给你一个字符串数组，请你将 字母异位词 组合在一起。可以按任意顺序返回结果列表。\n",
    "\n",
    "**示例 1:** \n",
    "\n",
    "**输入:**  strs = \\[\"eat\", \"tea\", \"tan\", \"ate\", \"nat\", \"bat\"]\n",
    "\n",
    "**输出:**  \\[\\[\"bat\"],\\[\"nat\",\"tan\"],\\[\"ate\",\"eat\",\"tea\"]]\n",
    "\n",
    "**解释：** \n",
    "\n",
    "*   在 strs 中没有字符串可以通过重新排列来形成 `\"bat\"`。\n",
    "*   字符串 `\"nat\"` 和 `\"tan\"` 是字母异位词，因为它们可以重新排列以形成彼此。\n",
    "*   字符串 `\"ate\"` ，`\"eat\"` 和 `\"tea\"` 是字母异位词，因为它们可以重新排列以形成彼此。\n",
    "\n",
    "**示例 2:** \n",
    "\n",
    "**输入:**  strs = \\[\"\"]\n",
    "\n",
    "**输出:**  \\[\\[\"\"]]\n",
    "\n",
    "**示例 3:** \n",
    "\n",
    "**输入:**  strs = \\[\"a\"]\n",
    "\n",
    "**输出:**  \\[\\[\"a\"]]\n",
    "\n",
    "**提示：** \n",
    "\n",
    "*   `1 <= strs.length <= 10^4`\n",
    "*   `0 <= strs[i].length <= 100`\n",
    "*   `strs[i]` 仅包含小写字母\n",
    "\n",
    "# 解法"
   ]
  },
  {
   "cell_type": "code",
   "execution_count": null,
   "id": "6b287d5c",
   "metadata": {
    "vscode": {
     "languageId": "plaintext"
    }
   },
   "outputs": [],
   "source": [
    "#排序\n",
    "class Solution(object):\n",
    "    def groupAnagrams(self, strs):\n",
    "        \"\"\"\n",
    "        :type strs: List[str]\n",
    "        :rtype: List[List[str]]\n",
    "        \"\"\"\n",
    "        idx = {}\n",
    "        for i in strs:\n",
    "            k = \"\".join(sorted(i))\n",
    "            if k in idx:\n",
    "                idx[k].append(i)\n",
    "            else:\n",
    "                idx[k] = [i]\n",
    "        return idx.values()"
   ]
  },
  {
   "cell_type": "markdown",
   "id": "ac72ce8a",
   "metadata": {},
   "source": [
    "    遍历字符列表，将其中元素进行排序，作为字典角标（排序后得到的唯一特征），将同一角标（字符相同）的元素添加到对应字典中，最后依据输出要求，返回字典的值。\n",
    "\n",
    "### 注：\n",
    "    当你第一次遇到一个新的键 k 时（例如，第一次处理 \"aet\"），字典 idx 中还不存在 idx['aet'] 这个键。此时，你尝试对一个不存在的键所对应的值（你期望它是一个列表）执行 .append() 操作，Python 就会报错，因为它找不到这个键。\n",
    "\n",
    "    除了上方给出的if/else逻辑外，还可以通过collections.defaultdict解决。 这是最简洁、最 Pythonic 的方法。defaultdict 是一个特殊的字典，当你尝试访问一个不存在的键时，它会自动为你创建一个默认值。 "
   ]
  },
  {
   "cell_type": "code",
   "execution_count": null,
   "id": "ce4c42a4",
   "metadata": {
    "vscode": {
     "languageId": "plaintext"
    }
   },
   "outputs": [],
   "source": [
    "# 使用 defaultdict(list)\n",
    "# 当第一次访问一个键时，它会自动创建一个空列表作为默认值\n",
    " idx = collections.defaultdict(list)  "
   ]
  }
 ],
 "metadata": {
  "language_info": {
   "name": "python"
  }
 },
 "nbformat": 4,
 "nbformat_minor": 5
}
