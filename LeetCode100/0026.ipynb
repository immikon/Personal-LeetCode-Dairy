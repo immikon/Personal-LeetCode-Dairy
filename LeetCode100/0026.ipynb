{
 "cells": [
  {
   "cell_type": "markdown",
   "id": "cf050948",
   "metadata": {},
   "source": [
    "# 26. 环形链表 \n",
    "\n",
    "给你一个链表的头节点 `head` ，判断链表中是否有环。\n",
    "\n",
    "如果链表中有某个节点，可以通过连续跟踪 `next` 指针再次到达，则链表中存在环。 为了表示给定链表中的环，评测系统内部使用整数 `pos` 来表示链表尾连接到链表中的位置（索引从 0 开始）。**注意：`pos` 不作为参数进行传递**  。仅仅是为了标识链表的实际情况。\n",
    "\n",
    "_如果链表中存在环_ ，则返回 `true` 。 否则，返回 `false` 。\n",
    "\n",
    "**示例 1：** \n",
    "\n",
    "![](https://assets.leetcode-cn.com/aliyun-lc-upload/uploads/2018/12/07/circularlinkedlist.png)\n",
    "\n",
    "> **输入：** head = \\[3,2,0,\\-4], pos = 1\n",
    "> **输出：** true\n",
    "> **解释：** 链表中有一个环，其尾部连接到第二个节点。\n",
    "> \n",
    "\n",
    "**示例 2：** \n",
    "\n",
    "![](https://assets.leetcode-cn.com/aliyun-lc-upload/uploads/2018/12/07/circularlinkedlist_test2.png)\n",
    "\n",
    "> **输入：** head = \\[1,2], pos = 0\n",
    "> **输出：** true\n",
    "> **解释：** 链表中有一个环，其尾部连接到第一个节点。\n",
    "> \n",
    "\n",
    "**示例 3：** \n",
    "\n",
    "![](https://assets.leetcode-cn.com/aliyun-lc-upload/uploads/2018/12/07/circularlinkedlist_test3.png)\n",
    "\n",
    "> **输入：** head = \\[1], pos = \\-1\n",
    "> **输出：** false\n",
    "> **解释：** 链表中没有环。\n",
    "> \n",
    "\n",
    "**提示：** \n",
    "\n",
    "*   链表中节点的数目范围是 `[0, 10^4]`\n",
    "*   `-10^5 <= Node.val <= 10^5`\n",
    "*   `pos` 为 `-1` 或者链表中的一个 **有效索引**  。\n",
    "\n",
    "**进阶：** 你能用 `O(1)`（即，常量）内存解决此问题吗？"
   ]
  },
  {
   "cell_type": "code",
   "execution_count": null,
   "id": "e10c9990",
   "metadata": {
    "vscode": {
     "languageId": "plaintext"
    }
   },
   "outputs": [],
   "source": []
  }
 ],
 "metadata": {
  "language_info": {
   "name": "python"
  }
 },
 "nbformat": 4,
 "nbformat_minor": 5
}
