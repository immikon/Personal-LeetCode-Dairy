{
 "cells": [
  {
   "cell_type": "markdown",
   "id": "463f90f1",
   "metadata": {},
   "source": [
    "# 12. 滑动窗口最大值 \n",
    "\n",
    "给你一个整数数组 `nums`，有一个大小为 `k` 的滑动窗口从数组的最左侧移动到数组的最右侧。你只可以看到在滑动窗口内的 `k` 个数字。滑动窗口每次只向右移动一位。\n",
    "\n",
    "返回 _滑动窗口中的最大值_ 。\n",
    "\n",
    "**示例 1：** \n",
    "\n",
    "> **输入：** nums = \\[1,3,\\-1,\\-3,5,3,6,7], k = 3\n",
    "> **输出：** \\[3,3,5,5,6,7]\n",
    "> **解释：** \n",
    "\n",
    "> 滑动窗口的位置                最大值\n",
    "\n",
    "> \\-\\-\\-\\-\\-\\-\\-\\-\\-\\-\\-\\-\\-\\-\\-               \\-\\-\\-\\-\\-\n",
    "\n",
    "> \\[1  3  \\-1] \\-3  5  3  6  7                  **3** \n",
    "\n",
    ">  1 \\[3  \\-1  \\-3] 5  3  6  7                  **3** \n",
    "\n",
    ">  1  3 \\[\\-1  \\-3  5] 3  6  7                  **5** \n",
    "\n",
    ">  1  3  \\-1 \\[\\-3  5  3] 6  7                  **5** \n",
    "\n",
    ">  1  3  \\-1  \\-3 \\[5  3  6] 7                  **6** \n",
    "\n",
    ">  1  3  \\-1  \\-3  5 \\[3  6  7]                 **7** \n",
    "> \n",
    "\n",
    "**示例 2：** \n",
    "\n",
    "> **输入：** nums = \\[1], k = 1\n",
    "> **输出：** \\[1]\n",
    "> \n",
    "\n",
    "**提示：** \n",
    "\n",
    "*   `1 <= nums.length <= 10^5`\n",
    "*   `-10^4 <= nums[i] <= 10^4`\n",
    "*   `1 <= k <= nums.length`"
   ]
  },
  {
   "cell_type": "code",
   "execution_count": null,
   "id": "0831cd52",
   "metadata": {
    "vscode": {
     "languageId": "plaintext"
    }
   },
   "outputs": [],
   "source": [
    "class Solution(object):\n",
    "    def maxSlidingWindow(self, nums, k):\n",
    "        \"\"\"\n",
    "        :type nums: List[int]\n",
    "        :type k: int\n",
    "        :rtype: List[int]\n",
    "        \"\"\"\n",
    "        # list的pop()具有O(N)的复杂度，表现差于deque\n",
    "        res, n = [], len(nums)\n",
    "        mlist = list()\n",
    "        left = 0\n",
    "          \n",
    "        for right in range(n):\n",
    "          while mlist and mlist[-1] < nums[right]:\n",
    "            mlist.pop()\n",
    "          left = right - k\n",
    "          mlist.append(nums[right])\n",
    "          if left >= 0 and mlist[0] == nums[left]:\n",
    "            mlist.pop(0)\n",
    "          if right >= k - 1:\n",
    "            res.append(mlist[0])\n",
    "          \n",
    "        return res"
   ]
  },
  {
   "cell_type": "markdown",
   "id": "835a8dc8",
   "metadata": {},
   "source": [
    "这一问题的解决思路是，构造一个能够收纳所有 **潜在的** 最大值的容器。\n",
    "\n",
    "具体说来，是构造一个 **`单调队列`** 。\n",
    "\n",
    "上方是一个使用列表的示例（用在这里不大合适，因为需要频繁删去队尾最小值）：\n",
    "\n",
    "对每一个 **`进入窗口`** 与 **`离开窗口`** 的元素进行判断。\n",
    "\n",
    "当列表存在，且列表末尾元素小于新元素，则删去末尾元素。\n",
    "\n",
    "直到列表中没有比新元素更小的元素时，将新元素添加到队尾（保证了单调性）。\n",
    "\n",
    "当元素离开时，判断列表首位元素是不是左侧元素，若是，则删去。\n",
    "\n",
    "**注：** 由于单调队列已经构建，此时要删去的左侧元素`不可能存在` ***`并非首位元素，且存在于列表中`*** 的情况。\n",
    "\n",
    "因为若它非首位元素，说明后续有元素大于它，那么在该元素进入队列时，它就被删去了。\n",
    "\n",
    "完成后，记录此时最大的元素，窗口继续滑动。"
   ]
  },
  {
   "cell_type": "code",
   "execution_count": null,
   "id": "289c9e57",
   "metadata": {
    "vscode": {
     "languageId": "plaintext"
    }
   },
   "outputs": [],
   "source": [
    "class Solution(object):\n",
    "    def maxSlidingWindow(self, nums, k):\n",
    "        \"\"\"\n",
    "        :type nums: List[int]\n",
    "        :type k: int\n",
    "        :rtype: List[int]\n",
    "        \"\"\"\n",
    "        deque = collections.deque()\n",
    "        res, n = [], len(nums)\n",
    "        # 利用zip(range(), range())实现左右边界同时遍历\n",
    "        for i, j in zip(range(1 - k, n + 1 - k), range(n)):\n",
    "            # 删除 deque 中对应的 nums[i-1]\n",
    "            if i > 0 and deque[0] == nums[i - 1]:\n",
    "                deque.popleft()\n",
    "            # 保持 deque 递减\n",
    "            # deque[-1] 即最后一位\n",
    "            # 去除队列中“所有”小于新值的值，随后加入新值！\n",
    "            while deque and deque[-1] < nums[j]:\n",
    "                deque.pop()\n",
    "            deque.append(nums[j])\n",
    "            # 记录窗口最大值\n",
    "            if i >= 0:\n",
    "                res.append(deque[0])\n",
    "        return res\n",
    "        # --------解析-------- #\n",
    "        # deque：double-ended queue\n",
    "        # 这一队列用于存储潜在的窗口内最大值\n",
    "        # 它提供了一个快速添加、去除值的方案"
   ]
  }
 ],
 "metadata": {
  "language_info": {
   "name": "python"
  }
 },
 "nbformat": 4,
 "nbformat_minor": 5
}
