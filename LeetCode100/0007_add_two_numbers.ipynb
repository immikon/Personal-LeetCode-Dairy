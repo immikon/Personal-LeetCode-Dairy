{
 "cells": [
  {
   "cell_type": "markdown",
   "id": "36b4fdab",
   "metadata": {},
   "source": [
    "# 7. 两数相加 \n",
    "\n",
    "给你两个 **非空**  的链表，表示两个非负的整数。它们每位数字都是按照 **逆序**  的方式存储的，并且每个节点只能存储 **一位**  数字。\n",
    "\n",
    "请你将两个数相加，并以相同形式返回一个表示和的链表。\n",
    "\n",
    "你可以假设除了数字 0 之外，这两个数都不会以 0 开头。\n",
    "\n",
    "**示例 1：** \n",
    "\n",
    "![](https://assets.leetcode-cn.com/aliyun-lc-upload/uploads/2021/01/02/addtwonumber1.jpg)\n",
    "> **输入：** l1 = \\[2,4,3], l2 = \\[5,6,4]\n",
    "> **输出：** \\[7,0,8]\n",
    "> **解释：** 342 \\+ 465 = 807\\.\n",
    "> \n",
    "\n",
    "**示例 2：** \n",
    "\n",
    "> **输入：** l1 = \\[0], l2 = \\[0]\n",
    "> **输出：** \\[0]\n",
    "> \n",
    "\n",
    "**示例 3：** \n",
    "\n",
    "> **输入：** l1 = \\[9,9,9,9,9,9,9], l2 = \\[9,9,9,9]\n",
    "> **输出：** \\[8,9,9,9,0,0,0,1]\n",
    "> \n",
    "\n",
    "**提示：** \n",
    "\n",
    "*   每个链表中的节点数在范围 `[1, 100]` 内\n",
    "*   `0 <= Node.val <= 9`\n",
    "*   题目数据保证列表表示的数字不含前导零"
   ]
  },
  {
   "cell_type": "code",
   "execution_count": null,
   "id": "6a9f5d81",
   "metadata": {
    "vscode": {
     "languageId": "plaintext"
    }
   },
   "outputs": [],
   "source": [
    "# Definition for singly-linked list.\n",
    "# class ListNode(object):\n",
    "#     def __init__(self, val=0, next=None):\n",
    "#         self.val = val\n",
    "#         self.next = next\n",
    "class Solution(object):\n",
    "    def addTwoNumbers(self, l1, l2):\n",
    "        \"\"\"\n",
    "        :type l1: Optional[ListNode]\n",
    "        :type l2: Optional[ListNode]\n",
    "        :rtype: Optional[ListNode]\n",
    "        \"\"\"\n",
    "        v = l1.val + l2.val\n",
    "        top = ListNode(v % 10)\n",
    "        n = top\n",
    "        flag = 0\n",
    "        if v >= 10:\n",
    "            flag = 1\n",
    "        while l1.next and l2.next:\n",
    "            l1 = l1.next\n",
    "            l2 = l2.next\n",
    "            v = l1.val + l2.val\n",
    "            n.next = ListNode((v + flag) % 10)\n",
    "            if v + flag >= 10:\n",
    "                flag = 1\n",
    "            else:\n",
    "                flag = 0\n",
    "            n = n.next\n",
    "        if l1.next != None:\n",
    "            while l1.next:\n",
    "                l1 = l1.next\n",
    "                n.next = ListNode((l1.val + flag) % 10)\n",
    "                if l1.val + flag >= 10:\n",
    "                    flag = 1\n",
    "                else:\n",
    "                    flag = 0\n",
    "                n = n.next\n",
    "        if l2.next != None:\n",
    "            while l2.next:\n",
    "                l2 = l2.next\n",
    "                n.next = ListNode((l2.val + flag) % 10)\n",
    "                if l2.val + flag >= 10:\n",
    "                    flag = 1\n",
    "                else:\n",
    "                    flag = 0\n",
    "                n = n.next\n",
    "        if flag == 1:\n",
    "            n.next = ListNode(1)\n",
    "        return top"
   ]
  },
  {
   "cell_type": "markdown",
   "id": "df1e6bac",
   "metadata": {},
   "source": [
    "链表题目，难度一般般，需要理清加法与进位的步骤，考虑初始与结尾的情况，这一点上比较繁琐。"
   ]
  }
 ],
 "metadata": {
  "language_info": {
   "name": "python"
  }
 },
 "nbformat": 4,
 "nbformat_minor": 5
}
