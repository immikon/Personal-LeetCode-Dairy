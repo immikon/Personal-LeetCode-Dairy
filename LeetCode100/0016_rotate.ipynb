{
 "cells": [
  {
   "cell_type": "markdown",
   "id": "fe112941",
   "metadata": {},
   "source": [
    "# 16. 轮转数组 \n",
    "\n",
    "给定一个整数数组 `nums`，将数组中的元素向右轮转 `k` 个位置，其中 `k` 是非负数。\n",
    "\n",
    "**示例 1:** \n",
    "\n",
    "> **输入:**  nums = \\[1,2,3,4,5,6,7], k = 3\n",
    "> **输出:**  `[5,6,7,1,2,3,4]`\n",
    "> **解释:** \n",
    "> 向右轮转 1 步: `[7,1,2,3,4,5,6]`\n",
    "> 向右轮转 2 步: `[6,7,1,2,3,4,5]`\n",
    "> 向右轮转 3 步: `[5,6,7,1,2,3,4]`\n",
    "> \n",
    "\n",
    "**示例 2:** \n",
    "\n",
    "> **输入：** nums = \\[\\-1,\\-100,3,99], k = 2\n",
    "> **输出：** \\[3,99,\\-1,\\-100]\n",
    "> **解释:**  \n",
    "> 向右轮转 1 步: \\[99,\\-1,\\-100,3]\n",
    "> 向右轮转 2 步: \\[3,99,\\-1,\\-100]\n",
    "\n",
    "**提示：** \n",
    "\n",
    "*   `1 <= nums.length <= 10^5`\n",
    "*   `-2^31 <= nums[i] <= 2^31 - 1`\n",
    "*   `0 <= k <= 10^5`\n",
    "\n",
    "**进阶：** \n",
    "\n",
    "*   尽可能想出更多的解决方案，至少有 **三种**  不同的方法可以解决这个问题。\n",
    "*   你可以使用空间复杂度为 `O(1)` 的 **原地**  算法解决这个问题吗？"
   ]
  },
  {
   "cell_type": "code",
   "execution_count": null,
   "id": "8a0ac970",
   "metadata": {
    "vscode": {
     "languageId": "plaintext"
    }
   },
   "outputs": [],
   "source": [
    "class Solution(object):\n",
    "    def rotate(self, nums, k):\n",
    "        \"\"\"\n",
    "        :type nums: List[int]\n",
    "        :type k: int\n",
    "        :rtype: None Do not return anything, modify nums in-place instead.\n",
    "        \"\"\"\n",
    "        # 容易考虑到O(nk)的做法\n",
    "        # 若要使得复杂度为O(n)，可能有一种链式推移的方案\n",
    "        # e.g. 对示例1，进行如1->4, 4->7, 7->3...这样的变换，直到遍历结束\n",
    "        n = len(nums)\n",
    "        if n == 0:\n",
    "            return nums\n",
    "        res = [0] * n\n",
    "        for i in range(n):  # 遍历n个元素\n",
    "            j = (i + k) % n\n",
    "            res[j] = nums[i]\n",
    "        nums[:] = res\n",
    "        return res"
   ]
  },
  {
   "cell_type": "code",
   "execution_count": null,
   "id": "86952bf5",
   "metadata": {
    "vscode": {
     "languageId": "plaintext"
    }
   },
   "outputs": [],
   "source": [
    "class Solution(object):\n",
    "    def rotate(self, nums, k):\n",
    "        n = len(nums)\n",
    "        k %= n\n",
    "        \n",
    "        if k == 0:\n",
    "            return\n",
    "\n",
    "        count = 0  # 记录已交换的元素个数\n",
    "        start_index = 0\n",
    "        \n",
    "        while count < n:\n",
    "            current_index = start_index\n",
    "            prev_val = nums[start_index]\n",
    "            \n",
    "            # 开始一个新环的替换\n",
    "            while True:\n",
    "                next_index = (current_index + k) % n\n",
    "                \n",
    "                # 交换\n",
    "                temp = nums[next_index]\n",
    "                nums[next_index] = prev_val\n",
    "                prev_val = temp\n",
    "                \n",
    "                current_index = next_index\n",
    "                count += 1\n",
    "                \n",
    "                # 如果回到了环的起点，结束当前环\n",
    "                if current_index == start_index:\n",
    "                    break\n",
    "            \n",
    "            # 从下一个位置开始新环\n",
    "            start_index += 1"
   ]
  }
 ],
 "metadata": {
  "language_info": {
   "name": "python"
  }
 },
 "nbformat": 4,
 "nbformat_minor": 5
}
