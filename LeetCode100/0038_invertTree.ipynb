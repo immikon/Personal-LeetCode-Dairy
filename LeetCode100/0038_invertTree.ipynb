{
 "cells": [
  {
   "cell_type": "markdown",
   "id": "69cd0dbf",
   "metadata": {},
   "source": [
    "# 38. 翻转二叉树 \n",
    "\n",
    "给你一棵二叉树的根节点 `root` ，翻转这棵二叉树，并返回其根节点。\n",
    "\n",
    "**示例 1：** \n",
    "\n",
    "![](https://assets.leetcode.com/uploads/2021/03/14/invert1-tree.jpg)\n",
    "\n",
    "> **输入：** root = \\[4,2,7,1,3,6,9]\n",
    "> **输出：** \\[4,7,2,9,6,3,1]\n",
    "> \n",
    "\n",
    "**示例 2：** \n",
    "\n",
    "![](https://assets.leetcode.com/uploads/2021/03/14/invert2-tree.jpg)\n",
    "\n",
    "> **输入：** root = \\[2,1,3]\n",
    "> **输出：** \\[2,3,1]\n",
    "> \n",
    "\n",
    "**示例 3：** \n",
    "\n",
    "> **输入：** root = \\[]\n",
    "> **输出：** \\[]\n",
    "> \n",
    "\n",
    "**提示：** \n",
    "\n",
    "*   树中节点数目范围在 `[0, 100]` 内\n",
    "*   `-100 <= Node.val <= 100`"
   ]
  },
  {
   "cell_type": "markdown",
   "id": "46c5690e",
   "metadata": {},
   "source": [
    "#### 递归"
   ]
  },
  {
   "cell_type": "code",
   "execution_count": null,
   "id": "9f7ef080",
   "metadata": {
    "vscode": {
     "languageId": "plaintext"
    }
   },
   "outputs": [],
   "source": [
    "# Definition for a binary tree node.\n",
    "# class TreeNode(object):\n",
    "#     def __init__(self, val=0, left=None, right=None):\n",
    "#         self.val = val\n",
    "#         self.left = left\n",
    "#         self.right = right\n",
    "class Solution(object):\n",
    "    def invertTree(self, root):\n",
    "        \"\"\"\n",
    "        :type root: Optional[TreeNode]\n",
    "        :rtype: Optional[TreeNode]\n",
    "        \"\"\"\n",
    "        # invertTree 改变所有左右子树位置\n",
    "        # 尝试使用递归方法\n",
    "        # 在倒数第二层节点开始: tmp = root.left; root.left = root.right; root.right = tmp\n",
    "        if not root:\n",
    "            return\n",
    "\n",
    "        self.invertTree(root.left)\n",
    "        self.invertTree(root.right)\n",
    "        # 这里的交换放在invertTree之上也是可以的\n",
    "        tmp = root.left\n",
    "        root.left = root.right\n",
    "        root.right = tmp\n",
    "        \n",
    "        return root\n",
    "        "
   ]
  },
  {
   "cell_type": "markdown",
   "id": "4386475e",
   "metadata": {},
   "source": [
    "#### 层序遍历"
   ]
  },
  {
   "cell_type": "code",
   "execution_count": null,
   "id": "02d694c6",
   "metadata": {
    "vscode": {
     "languageId": "plaintext"
    }
   },
   "outputs": [],
   "source": [
    "# Definition for a binary tree node.\n",
    "# class TreeNode(object):\n",
    "#     def __init__(self, val=0, left=None, right=None):\n",
    "#         self.val = val\n",
    "#         self.left = left\n",
    "#         self.right = right\n",
    "class Solution(object):\n",
    "    def invertTree(self, root):\n",
    "        \"\"\"\n",
    "        :type root: Optional[TreeNode]\n",
    "        :rtype: Optional[TreeNode]\n",
    "        \"\"\"\n",
    "        # invertTree 改变所有左右子树位置\n",
    "        if not root:\n",
    "            return\n",
    "        # 尝试层序遍历\n",
    "        queue = [root]\n",
    "        # 按层遍历\n",
    "        while queue:\n",
    "            # 每次都从队列中拿一个节点，并交换这个节点的左右子树\n",
    "\t\t\ttmp = queue.pop(0)\n",
    "\t\t\ttmp.left,tmp.right = tmp.right,tmp.left\n",
    "\t\t\t# 如果当前节点的左子树不为空，则放入队列等待后续处理\n",
    "\t\t\tif tmp.left:\n",
    "\t\t\t\tqueue.append(tmp.left)\n",
    "\t\t\t# 如果当前节点的右子树不为空，则放入队列等待后续处理\t\n",
    "\t\t\tif tmp.right:\n",
    "\t\t\t\tqueue.append(tmp.right)\n",
    "        \n",
    "        return root\n",
    "        "
   ]
  }
 ],
 "metadata": {
  "language_info": {
   "name": "python"
  }
 },
 "nbformat": 4,
 "nbformat_minor": 5
}
