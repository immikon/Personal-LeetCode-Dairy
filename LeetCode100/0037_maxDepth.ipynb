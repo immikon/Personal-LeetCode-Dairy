{
 "cells": [
  {
   "cell_type": "markdown",
   "id": "274fbf30",
   "metadata": {},
   "source": [
    "# 37. 二叉树的最大深度 \n",
    "\n",
    "给定一个二叉树 `root` ，返回其最大深度。\n",
    "\n",
    "二叉树的 **最大深度**  是指从根节点到最远叶子节点的最长路径上的节点数。\n",
    "\n",
    "**示例 1：** \n",
    "\n",
    "![](https://assets.leetcode.com/uploads/2020/11/26/tmp-tree.jpg)\n",
    "\n",
    "> **输入：** root = \\[3,9,20,null,null,15,7]\n",
    "> **输出：** 3\n",
    "> \n",
    "\n",
    "**示例 2：** \n",
    "\n",
    "> **输入：** root = \\[1,null,2]\n",
    "> **输出：** 2\n",
    "> \n",
    "\n",
    "**提示：** \n",
    "\n",
    "*   树中节点的数量在 `[0, 10^4]` 区间内。\n",
    "*   `-100 <= Node.val <= 100`"
   ]
  },
  {
   "cell_type": "markdown",
   "id": "0826cf74",
   "metadata": {},
   "source": [
    "#### 递归做法\n",
    "\n",
    "树深度 = max(左子树深度, 右子树深度) + 1"
   ]
  },
  {
   "cell_type": "code",
   "execution_count": null,
   "id": "5910093e",
   "metadata": {
    "vscode": {
     "languageId": "plaintext"
    }
   },
   "outputs": [],
   "source": [
    "# Definition for a binary tree node.\n",
    "# class TreeNode(object):\n",
    "#     def __init__(self, val=0, left=None, right=None):\n",
    "#         self.val = val\n",
    "#         self.left = left\n",
    "#         self.right = right\n",
    "class Solution(object):\n",
    "    def maxDepth(self, root):\n",
    "        \"\"\"\n",
    "        :type root: Optional[TreeNode]\n",
    "        :rtype: int\n",
    "        \"\"\"\n",
    "        if not root:\n",
    "            return 0\n",
    "        maxd = max(self.maxDepth(root.left), self.maxDepth(root.right)) + 1\n",
    "        return maxd"
   ]
  },
  {
   "cell_type": "markdown",
   "id": "36102603",
   "metadata": {},
   "source": [
    "#### 层序遍历\n",
    "\n",
    "广度搜索(BFS)利用队列实现"
   ]
  },
  {
   "cell_type": "code",
   "execution_count": null,
   "id": "829f739e",
   "metadata": {
    "vscode": {
     "languageId": "plaintext"
    }
   },
   "outputs": [],
   "source": [
    "# Definition for a binary tree node.\n",
    "# class TreeNode(object):\n",
    "#     def __init__(self, val=0, left=None, right=None):\n",
    "#         self.val = val\n",
    "#         self.left = left\n",
    "#         self.right = right\n",
    "class Solution(object):\n",
    "    def maxDepth(self, root):\n",
    "        \"\"\"\n",
    "        :type root: Optional[TreeNode]\n",
    "        :rtype: int\n",
    "        \"\"\"\n",
    "        # 层序遍历\n",
    "        if not root:\n",
    "            return 0\n",
    "        res = 0\n",
    "        queue = [root]\n",
    "        # 下一层无一物时退出循环\n",
    "        while queue:\n",
    "            # tmp 用于临时存储下一层节点\n",
    "            tmp = []\n",
    "            for node in queue:\n",
    "                if node.left: \n",
    "                    tmp.append(node.left)\n",
    "                if node.right:\n",
    "                    tmp.append(node.right)\n",
    "            queue = tmp\n",
    "            # 完成本层遍历(本层非空)，计数加一\n",
    "            res += 1\n",
    "        return res"
   ]
  }
 ],
 "metadata": {
  "language_info": {
   "name": "python"
  }
 },
 "nbformat": 4,
 "nbformat_minor": 5
}
