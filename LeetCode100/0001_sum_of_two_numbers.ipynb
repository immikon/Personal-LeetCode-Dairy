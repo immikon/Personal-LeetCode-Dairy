{
 "cells": [
  {
   "cell_type": "markdown",
   "id": "db014181",
   "metadata": {},
   "source": [
    "## 1.两数之和\n",
    "\n",
    "给定一个整数数组 nums 和一个整数目标值 target，请你在该数组中找出 和为目标值 target  的那 两个 整数，并返回它们的数组下标。\n",
    "你可以假设每种输入只会对应一个答案，并且你不能使用两次相同的元素。\n",
    "你可以按任意顺序返回答案。"
   ]
  },
  {
   "cell_type": "markdown",
   "id": "acd5232f",
   "metadata": {},
   "source": [
    "#### 示例1\n",
    "输入：nums = [2,7,11,15], target = 9\n",
    "\n",
    "输出：[0,1]\n",
    "\n",
    "解释：因为 nums[0] + nums[1] == 9 ，返回 [0, 1] 。\n",
    "\n",
    "#### 示例 2：\n",
    "输入：nums = [3,2,4], target = 6\n",
    "\n",
    "输出：[1,2]\n",
    "\n",
    "#### 示例 3：\n",
    "\n",
    "输入：nums = [3,3], target = 6\n",
    "\n",
    "输出：[0,1]\n",
    "\n",
    "#### 提示：\n",
    "- 2 <= nums.length <= 104\n",
    "- -109 <= nums[i] <= 109\n",
    "- -109 <= target <= 109\n",
    "- 只会存在一个有效答案"
   ]
  },
  {
   "cell_type": "markdown",
   "id": "995e55d0",
   "metadata": {},
   "source": [
    "### 解法"
   ]
  },
  {
   "cell_type": "code",
   "execution_count": 1,
   "id": "d87cc526",
   "metadata": {},
   "outputs": [],
   "source": [
    "#暴力运算\n",
    "class Solution(object):\n",
    "    def twoSum(self, nums, target):\n",
    "        \"\"\"\n",
    "        :type nums: List[int]\n",
    "        :type target: int\n",
    "        :rtype: List[int]\n",
    "        \"\"\"\n",
    "        for i in range(len(nums)):\n",
    "            for j in range(i + 1, len(nums)):\n",
    "                if (nums[i] + nums[j]) == target:\n",
    "                    return[i,j]\n",
    "                    break"
   ]
  },
  {
   "cell_type": "code",
   "execution_count": null,
   "id": "235afcf7",
   "metadata": {},
   "outputs": [],
   "source": [
    "#哈希表\n",
    "class Solution(object):\n",
    "    def twoSum(self, nums, target):\n",
    "        \"\"\"\n",
    "        :type nums: List[int]\n",
    "        :type target: int\n",
    "        :rtype: List[int]\n",
    "        \"\"\"\n",
    "        idx = {}\n",
    "        x = 0\n",
    "        for i in nums:\n",
    "            if target - i in idx:\n",
    "                return [idx[target - i], x]\n",
    "            idx[i] = x\n",
    "            x = x + 1"
   ]
  },
  {
   "cell_type": "markdown",
   "id": "6cd763cb",
   "metadata": {},
   "source": [
    "暴力运算的做法是直接进行两次iteration，遍历得到相加等于目标值的角标并输出。时间复杂度上达到n^2。\n",
    "\n",
    "哈希表的解决方案是在遍历nums列表的元素时，将列表元素构建为一个字典，字典角标为元素值，字典值为元素角标。遍历过程中，若目标值于遍历元素之差记录在之前的字典中，则返回对应字典值（元素角标）与当前列表的角标。以这样的形式使得时间复杂度下降到n。\n",
    "\n",
    "##### Q：if target - i in idx: 这一过程中不会发生遍历吗？为什么依然使得算法时间复杂度为n？\n",
    "\n",
    "这一步发生了查找，Python 的字典 (dict) 和集合 (set) 在底层是使用哈希表实现的。\n",
    "\n",
    "可以把哈希表想象成一个有许多“柜子”的储物柜，每个柜子都有一个编号。\n",
    "\n",
    "存东西 (添加元素):\n",
    "\n",
    "当你要把一个元素（比如数字 3）存进去时，你不会随便找个空柜子。\n",
    "\n",
    "你会先通过一个神奇的“计算器”（叫做 哈希函数）来计算 3 应该放在哪个柜子里。比如，计算器说：“3 应该放在 102 号柜。”\n",
    "\n",
    "于是，你直接走到 102 号柜，把 3 放进去。这个过程非常快，因为你不需要查看其他任何柜子。\n",
    "\n",
    "找东西 (查找元素):\n",
    "\n",
    "现在，你想知道 6 (即 target - i 的值) 在不在储物柜里。\n",
    "\n",
    "你不会从 1 号柜子开始一个个打开看。\n",
    "\n",
    "你再次使用那个神奇的“计算器”，输入 6，计算器告诉你：“6 应该在 205 号柜。”\n",
    "\n",
    "你直接走到 205 号柜，打开一看，就知道 6 在不在里面了。\n",
    "\n",
    "这个“直接走到特定柜子”的过程，就是哈希表的查找。它不需要遍历所有已经存放的元素。\n",
    "\n",
    "为什么时间复杂度是 O(1)?\n",
    "计算哈希值：这个计算过程非常快，通常被认为是常数时间，即 O(1)。\n",
    "\n",
    "定位柜子：根据计算出的地址直接找到“柜子”也是常数时间，即 O(1)。"
   ]
  }
 ],
 "metadata": {
  "kernelspec": {
   "display_name": "geo",
   "language": "python",
   "name": "python3"
  },
  "language_info": {
   "codemirror_mode": {
    "name": "ipython",
    "version": 3
   },
   "file_extension": ".py",
   "mimetype": "text/x-python",
   "name": "python",
   "nbconvert_exporter": "python",
   "pygments_lexer": "ipython3",
   "version": "3.9.19"
  }
 },
 "nbformat": 4,
 "nbformat_minor": 5
}
