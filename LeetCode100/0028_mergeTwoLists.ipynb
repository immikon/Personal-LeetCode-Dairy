{
 "cells": [
  {
   "cell_type": "markdown",
   "id": "cf771fdc",
   "metadata": {},
   "source": [
    "# 28. 合并两个有序链表 \n",
    "\n",
    "将两个升序链表合并为一个新的 **升序**  链表并返回。新链表是通过拼接给定的两个链表的所有节点组成的。 \n",
    "\n",
    "**示例 1：** \n",
    "\n",
    "![](https://assets.leetcode.com/uploads/2020/10/03/merge_ex1.jpg)\n",
    "> **输入：** l1 = \\[1,2,4], l2 = \\[1,3,4]\n",
    "> **输出：** \\[1,1,2,3,4,4]\n",
    "> \n",
    "\n",
    "**示例 2：** \n",
    "\n",
    "> **输入：** l1 = \\[], l2 = \\[]\n",
    "> **输出：** \\[]\n",
    "> \n",
    "\n",
    "**示例 3：** \n",
    "\n",
    "> **输入：** l1 = \\[], l2 = \\[0]\n",
    "> **输出：** \\[0]\n",
    "> \n",
    "\n",
    "**提示：** \n",
    "\n",
    "*   两个链表的节点数目范围是 `[0, 50]`\n",
    "*   `-100 <= Node.val <= 100`\n",
    "*   `l1` 和 `l2` 均按 **非递减顺序**  排列"
   ]
  },
  {
   "cell_type": "code",
   "execution_count": null,
   "id": "5dafc947",
   "metadata": {
    "vscode": {
     "languageId": "plaintext"
    }
   },
   "outputs": [],
   "source": [
    "# Definition for singly-linked list.\n",
    "# class ListNode(object):\n",
    "#     def __init__(self, val=0, next=None):\n",
    "#         self.val = val\n",
    "#         self.next = next\n",
    "class Solution(object):\n",
    "    def mergeTwoLists(self, list1, list2):\n",
    "        \"\"\"\n",
    "        :type list1: Optional[ListNode]\n",
    "        :type list2: Optional[ListNode]\n",
    "        :rtype: Optional[ListNode]\n",
    "        \"\"\"\n",
    "        res = ListNode()\n",
    "        current = res\n",
    "        while list1 and list2:\n",
    "            if list1.val >= list2.val:\n",
    "                current.next = list2\n",
    "                list2 = list2.next\n",
    "            elif list1.val < list2.val:\n",
    "                current.next = list1\n",
    "                list1 = list1.next\n",
    "            current = current.next\n",
    "        if list1:\n",
    "            current.next = list1\n",
    "        elif list2:\n",
    "            current.next = list2\n",
    "        return res.next"
   ]
  },
  {
   "cell_type": "markdown",
   "id": "13a14945",
   "metadata": {},
   "source": [
    "简单题，注意在构造链表时尽量使用.next来避免错误，.next是将链表后面链接到其他节点，而直接current = list1这样的操作会导致current直接被切换到另一个节点，失去链接的功能并丢失了上下文。这本来是一个简单的知识点，但太久没写链表了，连这样的要点都会忘记。"
   ]
  }
 ],
 "metadata": {
  "language_info": {
   "name": "python"
  }
 },
 "nbformat": 4,
 "nbformat_minor": 5
}
