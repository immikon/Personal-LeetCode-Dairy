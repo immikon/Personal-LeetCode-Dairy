{
 "cells": [
  {
   "cell_type": "markdown",
   "id": "9cb95e1f",
   "metadata": {},
   "source": [
    "# 11. 和为 K 的子数组 \n",
    "\n",
    "给你一个整数数组 `nums` 和一个整数 `k` ，请你统计并返回 _该数组中和为 `k` 的子数组的个数_ 。\n",
    "\n",
    "子数组是数组中元素的连续非空序列。\n",
    "\n",
    "**示例 1：** \n",
    "\n",
    "> **输入：** nums = \\[1,1,1], k = 2\n",
    "> **输出：** 2\n",
    "> \n",
    "\n",
    "**示例 2：** \n",
    "\n",
    "> **输入：** nums = \\[1,2,3], k = 3\n",
    "> **输出：** 2\n",
    "> \n",
    "\n",
    "**提示：** \n",
    "\n",
    "*   `1 <= nums.length <= 2 * 10^4`\n",
    "*   `-1000 <= nums[i] <= 1000`\n",
    "*   `-10^7 <= k <= 10^7`"
   ]
  },
  {
   "cell_type": "code",
   "execution_count": null,
   "id": "0a820da6",
   "metadata": {
    "vscode": {
     "languageId": "plaintext"
    }
   },
   "outputs": [],
   "source": [
    "# 暴力前缀和解法\n",
    "class Solution(object):\n",
    "    def subarraySum(self, nums, k):\n",
    "        \"\"\"\n",
    "        :type nums: List[int]\n",
    "        :type k: int\n",
    "        :rtype: int\n",
    "        \"\"\"\n",
    "        result = 0\n",
    "        s = []\n",
    "        s.append(nums[0])\n",
    "        for i in range(1,len(nums)):\n",
    "            s.append(s[i - 1] + nums[i])\n",
    "        for i in range(len(nums)):\n",
    "            for j in range(i, len(nums)):\n",
    "                if i == 0:\n",
    "                    c_sum = s[j]\n",
    "                else:\n",
    "                    c_sum = s[j] - s[i - 1]\n",
    "                if c_sum == k:\n",
    "                    result += 1\n",
    "        return result\n",
    "        "
   ]
  },
  {
   "cell_type": "markdown",
   "id": "3a7b2e3c",
   "metadata": {},
   "source": [
    "相比直接暴力的解法，其实也没有好多少。\n",
    "\n",
    "引出前缀和的概念。即 `s[i] = nums[1] + nums[2] + ... + nums[i]`\n",
    "\n",
    "需要注意的是，使用前缀和时，`s[j] - s[i] (j = i)` 并不是原数组的字串。\n",
    "\n",
    "要得到子串和，`i`与`j`至少要相隔一个单位"
   ]
  },
  {
   "cell_type": "code",
   "execution_count": null,
   "id": "f0700ab3",
   "metadata": {
    "vscode": {
     "languageId": "plaintext"
    }
   },
   "outputs": [],
   "source": [
    "class Solution(object):\n",
    "    def subarraySum(self, nums, k):\n",
    "        \"\"\"\n",
    "        :type nums: List[int]\n",
    "        :type k: int\n",
    "        :rtype: int\n",
    "        \"\"\"\n",
    "        # 一遍计算前缀和，一遍遍历前缀和\n",
    "        result = s = 0\n",
    "        cnt = defaultdict(int)\n",
    "        # 遍历 nums 从 s[1] 开始计算，单独处理 s[0] = 0\n",
    "        cnt[0] = 1\n",
    "        for x in nums:\n",
    "            s += x\n",
    "            result += cnt[s - k]\n",
    "            cnt[s] += 1\n",
    "        return result\n",
    "        \n",
    "        "
   ]
  },
  {
   "cell_type": "markdown",
   "id": "1cb8e07c",
   "metadata": {},
   "source": [
    "**解析**\n",
    "\n",
    "这一问题实际上是寻找 `s[j] - s[i] = k` 的个数 (j > i)。\n",
    "\n",
    "即 `s[j] - k = s[i]` 的个数。\n",
    "\n",
    "引入哈希表，记录前缀和数值为相同的`s[i]`的数目。\n",
    "\n",
    "若一遍计算前缀和，一遍利用哈希表遍历现有`s[j] - k = s[i]`的个数，则能够通过一次遍历解决问题。"
   ]
  },
  {
   "cell_type": "code",
   "execution_count": null,
   "id": "3079566d",
   "metadata": {
    "vscode": {
     "languageId": "plaintext"
    }
   },
   "outputs": [],
   "source": [
    "# 两次遍历，一种更便于理解的做法\n",
    "class Solution:\n",
    "    def subarraySum(self, nums: List[int], k: int) -> int:\n",
    "        s = [0] * (len(nums) + 1)\n",
    "        for i, x in enumerate(nums):\n",
    "            s[i + 1] = s[i] + x\n",
    "\n",
    "        ans = 0\n",
    "        cnt = defaultdict(int)\n",
    "        for sj in s:\n",
    "            ans += cnt[sj - k]\n",
    "            cnt[sj] += 1\n",
    "        return ans"
   ]
  },
  {
   "cell_type": "markdown",
   "id": "dd70b9a1",
   "metadata": {},
   "source": [
    "暴力做法是，外层循环枚举 j，内层循环枚举 i，如果 `s[j]−s[i]=k`，那么答案加一。\n",
    "\n",
    "我们保留了`外层循环枚举 j`这个过程，把内层循环用哈希表优化成了 `O(1)`，所以本质是对暴力算法的哈希表优化。\n",
    "\n",
    "既然暴力算法是不重不漏地计算，那么优化做法也是不重不漏地计算。\n",
    "\n",
    "**添加s[0] = 0的理由**\n",
    "\n",
    "举个最简单的例子，`nums=[1], k=1`。如果不把 `s[0]=0` 加到哈希表中，按照目前算法，没法算出这里有 1 个符合要求的子数组。\n",
    "\n",
    "若要把任意子数组都表示成两个前缀和的差，必须添加 `s[0]=0`，否则当子数组是前缀时，没法减去一个数。\n",
    "\n"
   ]
  }
 ],
 "metadata": {
  "language_info": {
   "name": "python"
  }
 },
 "nbformat": 4,
 "nbformat_minor": 5
}
