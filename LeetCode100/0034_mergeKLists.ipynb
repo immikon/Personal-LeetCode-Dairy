{
 "cells": [
  {
   "cell_type": "markdown",
   "id": "ffa620a3",
   "metadata": {},
   "source": [
    "# 34. 合并 K 个升序链表 \n",
    "\n",
    "给你一个链表数组，每个链表都已经按升序排列。\n",
    "\n",
    "请你将所有链表合并到一个升序链表中，返回合并后的链表。\n",
    "\n",
    "**示例 1：** \n",
    "\n",
    "> **输入：** lists = \\[\\[1,4,5],\\[1,3,4],\\[2,6]]\n",
    "> **输出：** \\[1,1,2,3,4,4,5,6]\n",
    "> **解释：** 链表数组如下：\n",
    "> \\[\n",
    ">   1\\-\\>4\\-\\>5,\n",
    ">   1\\-\\>3\\-\\>4,\n",
    ">   2\\-\\>6\n",
    "> ]\n",
    "> 将它们合并到一个有序链表中得到。\n",
    "> 1\\-\\>1\\-\\>2\\-\\>3\\-\\>4\\-\\>4\\-\\>5\\-\\>6\n",
    "> \n",
    "\n",
    "**示例 2：** \n",
    "\n",
    "> **输入：** lists = \\[]\n",
    "> **输出：** \\[]\n",
    "> \n",
    "\n",
    "**示例 3：** \n",
    "\n",
    "> **输入：** lists = \\[\\[]]\n",
    "> **输出：** \\[]\n",
    "> \n",
    "\n",
    "**提示：** \n",
    "\n",
    "*   `k == lists.length`\n",
    "*   `0 <= k <= 10^4`\n",
    "*   `0 <= lists[i].length <= 500`\n",
    "*   `-10^4 <= lists[i][j] <= 10^4`\n",
    "*   `lists[i]` 按 **升序**  排列\n",
    "*   `lists[i].length` 的总和不超过 `10^4`"
   ]
  },
  {
   "cell_type": "code",
   "execution_count": null,
   "id": "99f84d70",
   "metadata": {
    "vscode": {
     "languageId": "plaintext"
    }
   },
   "outputs": [],
   "source": [
    "# Definition for singly-linked list.\n",
    "# class ListNode(object):\n",
    "#     def __init__(self, val=0, next=None):\n",
    "#         self.val = val\n",
    "#         self.next = next\n",
    "class Solution(object):\n",
    "    def mergeKLists(self, lists):\n",
    "        \"\"\"\n",
    "        :type lists: List[Optional[ListNode]]\n",
    "        :rtype: Optional[ListNode]\n",
    "        \"\"\"\n",
    "        # 将所有链表合并到一个升序链表中\n",
    "        # 每个链表都已经按照升序排列\n",
    "        # 遍历的做法产生O(n^2)的复杂度\n",
    "        # 可以将链表全部做连接，然后做归并排列\n",
    "        crt = dummy = ListNode(0)\n",
    "        if not lists:\n",
    "            return dummy.next\n",
    "        # 链表全连接\n",
    "        for item in lists:\n",
    "            while item:\n",
    "                crt.next = item\n",
    "                crt = crt.next\n",
    "                item = item.next\n",
    "        return self.sortList(dummy.next)\n",
    "\n",
    "    def sortList(self, head):\n",
    "        # 基准情况：链表为空或只有一个节点，直接返回\n",
    "        if not head or not head.next:\n",
    "            return head\n",
    "        # 快慢指针二分\n",
    "        slow, fast = head, head.next\n",
    "        while fast and fast.next:\n",
    "            slow = slow.next\n",
    "            fast = fast.next.next\n",
    "        mid = slow.next\n",
    "        # 记得断开链表\n",
    "        slow.next = None\n",
    "\n",
    "        leftSort = self.sortList(head)\n",
    "        rightSort = self.sortList(mid)\n",
    "\n",
    "        return self.mergeList(leftSort, rightSort)\n",
    "    \n",
    "    def mergeList(self, l1, l2):\n",
    "        dummy = ListNode(0)\n",
    "        crt = dummy\n",
    "        while l1 and l2:\n",
    "            if l1.val < l2.val:\n",
    "                crt.next = l1\n",
    "                l1 = l1.next\n",
    "                crt = crt.next\n",
    "            else:\n",
    "                crt.next = l2\n",
    "                l2 = l2.next\n",
    "                crt = crt.next\n",
    "        if l1:\n",
    "            crt.next = l1\n",
    "        if l2:\n",
    "            crt.next = l2\n",
    "        return dummy.next\n",
    "        "
   ]
  },
  {
   "cell_type": "markdown",
   "id": "9266fd03",
   "metadata": {},
   "source": [
    "#### 在写 def 的方法时发现对 self 的理解不够\n",
    "\n",
    "因此也出了一些差错，确实写python有些半路出家，于是找gemini问询了相关的知识：\n",
    "\n",
    "简单来说，self 就是在类的方法（函数）中，代表 **“实例对象本身”** 的那个变量。\n",
    "\n",
    "它体现的是python中的oop思维\n",
    "\n",
    "#### 一个比喻：汽车工厂和汽车\n"
   ]
  },
  {
   "cell_type": "code",
   "execution_count": null,
   "id": "f71082b3",
   "metadata": {
    "vscode": {
     "languageId": "plaintext"
    }
   },
   "outputs": [],
   "source": [
    "class Car:\n",
    "    # 这是“初始化”方法，也就是造车的方法\n",
    "    def __init__(self, color, brand):\n",
    "        # 我们在这里给这辆“将要被制造出来”的汽车设置它自己的属性\n",
    "        # self.color 就是指 “这辆车自己的颜色”\n",
    "        self.color = color\n",
    "        self.brand = brand\n",
    "        self.is_running = False\n",
    "\n",
    "    # 这是一个方法，用来启动汽车\n",
    "    def start_engine(self):\n",
    "        # “我”（self）这辆车要启动了\n",
    "        print(f\"正在启动这辆{self.brand}汽车...\")\n",
    "        self.is_running = True\n",
    "        print(f\"颜色为{self.color}的{self.brand}引擎已启动！\")\n",
    "        \n",
    "    def check_status(self):\n",
    "        # 检查“我”（self）这辆车的状态\n",
    "        if self.is_running:\n",
    "            print(f\"这辆{self.color}的{self.brand}正在行驶中。\")\n",
    "        else:\n",
    "            print(f\"这辆{self.color}的{self.brand}已熄火。\")"
   ]
  },
  {
   "cell_type": "markdown",
   "id": "add6200c",
   "metadata": {},
   "source": [
    "现在，我们用这个 Car 蓝图（类）来制造两辆具体的汽车（实例）："
   ]
  },
  {
   "cell_type": "code",
   "execution_count": null,
   "id": "437a790a",
   "metadata": {
    "vscode": {
     "languageId": "plaintext"
    }
   },
   "outputs": [],
   "source": [
    "# 制造第一辆车，my_car_1 是一个实例对象\n",
    "my_car_1 = Car(\"红色\", \"法拉利\") \n",
    "\n",
    "# 制造第二辆车，my_car_2 是另一个实例对象\n",
    "my_car_2 = Car(\"蓝色\", \"兰博基尼\")"
   ]
  },
  {
   "cell_type": "markdown",
   "id": "72cc3794",
   "metadata": {},
   "source": [
    "- 当 my_car_1 被创建时，__init__ 方法被调用。此时，__init__ 方法内部的 self 就代表 my_car_1。所以 self.color = \"红色\" 就相当于 my_car_1.color = \"红色\"。\n",
    "\n",
    "- 当 my_car_2 被创建时，__init__ 方法再次被调用。这一次，__init__ 方法内部的 self 代表的就是 my_car_2。所以 self.color = \"蓝色\" 就相当于 my_car_2.color = \"蓝色\"。\n",
    "\n",
    "现在，我们让第一辆车启动："
   ]
  },
  {
   "cell_type": "code",
   "execution_count": null,
   "id": "9bdb5031",
   "metadata": {
    "vscode": {
     "languageId": "plaintext"
    }
   },
   "outputs": [],
   "source": [
    "my_car_1.start_engine()"
   ]
  },
  {
   "cell_type": "markdown",
   "id": "56c09d02",
   "metadata": {},
   "source": [
    "这行代码背后发生了什么？这才是关键！Python 会在内部把它转换成这样："
   ]
  },
  {
   "cell_type": "code",
   "execution_count": null,
   "id": "3675cd62",
   "metadata": {
    "vscode": {
     "languageId": "plaintext"
    }
   },
   "outputs": [],
   "source": [
    "# Python 内部的转换\n",
    "Car.start_engine(my_car_1)"
   ]
  },
  {
   "cell_type": "markdown",
   "id": "469e89d5",
   "metadata": {},
   "source": [
    "Python 自动地把实例对象 my_car_1 作为第一个参数传递给了 start_engine 方法。在 start_engine 方法的定义 def start_engine(self): 中，这个被自动传入的实例 my_car_1 就被 self 这个参数接收了。\n",
    "\n",
    "所以，在 start_engine 方法内部：\n",
    "\n",
    "- self 就是 my_car_1。\n",
    "\n",
    "- self.brand 就是 my_car_1.brand（\"法拉利\"）。\n",
    "\n",
    "- self.is_running = True 就是 my_car_1.is_running = True。"
   ]
  },
  {
   "cell_type": "markdown",
   "id": "3353b707",
   "metadata": {},
   "source": [
    "#### 总结\n",
    "\n",
    "- self 只在类的方法中出现：普通的函数没有 self。\n",
    "\n",
    "- self 自动传递：当你调用 instance.method() 时，Python 会自动把 instance 传递给方法的第一个参数（也就是 self），你不需要手动传入。\n",
    "\n",
    "- self 的两大作用：\n",
    "\n",
    "- - 访问实例属性：通过 self.attribute 来读取或修改这个实例自己的属性（如 self.color）。\n",
    "\n",
    "- - 调用实例方法：通过 self.method() 来调用这个实例自己的其他方法（就像你在 sortList 中需要调用 self.mergeList 一样）。"
   ]
  },
  {
   "cell_type": "markdown",
   "id": "4ef24314",
   "metadata": {},
   "source": [
    "### 以题目的 Solution 类为例：\n",
    "\n",
    "若在 mergeKLists 函数中调用 sortList 时，没有输入self.sortList(head)，会导致 Python 以为你在寻找一个不属于任何对象的普通全局函数 sortList，因此失败。\n",
    "\n",
    "在递归函数 sortList 中也是如此，self. 作为唤起类函数的标志，而不是与递归方法有特别联系。\n",
    "\n",
    "#### `题目中的 Solution 类并没有 __init__，它是不必须的吗？那么对于 Solution 类而言，self是什么呢？`\n",
    "\n",
    "##### `答案是：不，__init__ 并不是必须的。`\n",
    "\n",
    "__init__ 方法的主要目的，是在一个对象被创建时，初始化这个对象的“状态”（state）。“状态”指的是一个对象所持有的、独有的数据或属性。\n",
    "\n",
    "然而，并非所有的类都是为了创建“有状态的”对象。很多时候，我们设计一个类，只是为了将一些功能相关的工具或函数组织在一起。力扣（LeetCode）题目中的 Solution 类就是这种模式的完美范例。\n",
    "\n",
    "Solution 类是一个 **“无状态的”** 服务。\n",
    "\n",
    "- 它的工作不是要成为什么东西（比如一辆有特定颜色的车）。\n",
    "\n",
    "- 它的工作是要完成某项任务（解决“合并K个排序链表”的问题）。\n",
    "\n",
    "mergeKLists 这个方法，它完成任务所需要的所有数据（也就是 lists），都是通过参数直接传递给它的。它接收输入，处理数据，然后返回输出。在这个过程中，它完全不需要依赖 Solution 对象本身存储任何信息。无论是在调用前还是调用后，这个对象都不需要“记住”任何东西。\n",
    "\n",
    "总结一下：\n",
    "\n",
    "- 当你需要创建的对象必须持有自己独特的数据时（例如，一个 User 对象需要有 self.username 和 self.email），你就需要 __init__。\n",
    "\n",
    "- 当你的类仅仅是一个逻辑上的工具箱，用来组织一系列相关的方法时（这些方法只对自己接收到的输入进行操作），你就不需要 __init__。\n",
    "\n",
    "##### `\"那么对于 Solution 类而言，self 是什么呢？\"`\n",
    "\n",
    "即使没有 __init__ 方法，self 扮演的角色也完全一样：它始终是指向类当前实例的引用\n",
    "\n",
    "当力扣这样的在线评测系统运行你的代码时，它在后台会执行类似这样的操作："
   ]
  },
  {
   "cell_type": "code",
   "execution_count": null,
   "id": "abb13142",
   "metadata": {
    "vscode": {
     "languageId": "plaintext"
    }
   },
   "outputs": [],
   "source": [
    "# 1. 评测系统创建了你 Solution 类的一个**实例**。\n",
    "#    即使没有 __init__，一个空的 Solution 对象也会在内存中被创建。\n",
    "solver = Solution()\n",
    "\n",
    "# 2. 它为某个测试用例准备输入数据。\n",
    "input_lists = [[1,4,5], [1,3,4], [2,6]] \n",
    "# (这里实际上是 ListNode 对象的列表)\n",
    "\n",
    "# 3. 它在**这个实例上**调用你的方法。\n",
    "#    这是关键一步！它不是在调用一个全局函数，\n",
    "#    而是在调用属于 'solver' 这个对象的 mergeKLists 方法。\n",
    "result = solver.mergeKLists(input_lists) \n",
    "\n",
    "# 4. 最后，它检查你的 'result' 是否正确。"
   ]
  },
  {
   "cell_type": "markdown",
   "id": "3fe44d0c",
   "metadata": {},
   "source": [
    "所以，在你的 mergeKLists 方法内部，self 就是在第一步中被创建的那个 solver 对象。\n",
    "\n",
    "既然这个对象是“空的”，没有任何数据，为什么我们还需要 self 呢？\n",
    "\n",
    "你在修正代码时遇到的问题，恰好给出了最完美的答案：为了调用同一个类实例中的其他方法。\n",
    "\n",
    "你的 sortList 方法需要调用 mergeList 方法。因为这两个函数都是 Solution 类的方法，所以一个方法想要找到另一个方法的唯一途径，就是通过它们共同所属的那个实例 self。"
   ]
  },
  {
   "cell_type": "code",
   "execution_count": null,
   "id": "d29d29aa",
   "metadata": {
    "vscode": {
     "languageId": "plaintext"
    }
   },
   "outputs": [],
   "source": [
    "class Solution:\n",
    "    def sortList(self, head):\n",
    "        # ...\n",
    "        # sortList 方法怎么知道去哪里找 mergeList 方法呢？\n",
    "        # 就是通过 `self`！它告诉 Python：“去找到那个属于**我**\n",
    "        # （也就是当前这个 self 实例）的 mergeList 方法”。\n",
    "        return self.mergeList(leftSort, rightSort)\n",
    "\n",
    "    def mergeList(self, l1, l2):\n",
    "        # ..."
   ]
  },
  {
   "cell_type": "markdown",
   "id": "37f798c8",
   "metadata": {},
   "source": [
    "如果没有 self，sortList 和 mergeList 就只是两个互不相干的普通函数。self 就像是“胶水”，把同一个实例中的所有方法粘合在一起，让它们可以作为一个整体协同工作，即使这个整体没有任何自己的“状态”或数据。"
   ]
  }
 ],
 "metadata": {
  "language_info": {
   "name": "python"
  }
 },
 "nbformat": 4,
 "nbformat_minor": 5
}
