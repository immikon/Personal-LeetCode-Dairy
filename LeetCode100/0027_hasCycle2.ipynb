{
 "cells": [
  {
   "cell_type": "markdown",
   "id": "92cacec7",
   "metadata": {},
   "source": [
    "# 27. 环形链表 II \n",
    "\n",
    "给定一个链表的头节点  `head` ，返回链表开始入环的第一个节点。 _如果链表无环，则返回 `null`。_\n",
    "\n",
    "如果链表中有某个节点，可以通过连续跟踪 `next` 指针再次到达，则链表中存在环。 为了表示给定链表中的环，评测系统内部使用整数 `pos` 来表示链表尾连接到链表中的位置（**索引从 0 开始** ）。如果 `pos` 是 `-1`，则在该链表中没有环。**注意：`pos` 不作为参数进行传递** ，仅仅是为了标识链表的实际情况。\n",
    "\n",
    "**不允许修改**  链表。\n",
    "\n",
    "**示例 1：** \n",
    "\n",
    "![](https://assets.leetcode.com/uploads/2018/12/07/circularlinkedlist.png)\n",
    "\n",
    "> **输入：** head = \\[3,2,0,\\-4], pos = 1\n",
    "> **输出：** 返回索引为 1 的链表节点\n",
    "> **解释：** 链表中有一个环，其尾部连接到第二个节点。\n",
    "> \n",
    "\n",
    "**示例 2：** \n",
    "\n",
    "![](https://assets.leetcode-cn.com/aliyun-lc-upload/uploads/2018/12/07/circularlinkedlist_test2.png)\n",
    "\n",
    "> **输入：** head = \\[1,2], pos = 0\n",
    "> **输出：** 返回索引为 0 的链表节点\n",
    "> **解释：** 链表中有一个环，其尾部连接到第一个节点。\n",
    "> \n",
    "\n",
    "**示例 3：** \n",
    "\n",
    "![](https://assets.leetcode-cn.com/aliyun-lc-upload/uploads/2018/12/07/circularlinkedlist_test3.png)\n",
    "\n",
    "> **输入：** head = \\[1], pos = \\-1\n",
    "> **输出：** 返回 null\n",
    "> **解释：** 链表中没有环。\n",
    "> \n",
    "\n",
    "**提示：** \n",
    "\n",
    "*   链表中节点的数目范围在范围 `[0, 10^4]` 内\n",
    "*   `-10^5 <= Node.val <= 10^5`\n",
    "*   `pos` 的值为 `-1` 或者链表中的一个有效索引\n",
    "\n",
    "**进阶：** 你是否可以使用 `O(1)` 空间解决此题？"
   ]
  },
  {
   "cell_type": "code",
   "execution_count": null,
   "id": "b6a51497",
   "metadata": {
    "vscode": {
     "languageId": "plaintext"
    }
   },
   "outputs": [],
   "source": [
    "# Definition for singly-linked list.\n",
    "# class ListNode(object):\n",
    "#     def __init__(self, x):\n",
    "#         self.val = x\n",
    "#         self.next = None\n",
    "\n",
    "class Solution(object):\n",
    "    def detectCycle(self, head):\n",
    "        \"\"\"\n",
    "        :type head: ListNode\n",
    "        :rtype: ListNode\n",
    "        \"\"\"\n",
    "        fast, slow = head, head\n",
    "        while True:\n",
    "            if not (fast and fast.next): return\n",
    "            fast, slow = fast.next.next, slow.next\n",
    "            if fast == slow: break\n",
    "        fast = head\n",
    "        while fast != slow:\n",
    "            fast, slow = fast.next, slow.next\n",
    "        return fast"
   ]
  },
  {
   "cell_type": "markdown",
   "id": "11644425",
   "metadata": {},
   "source": [
    "Great Thought!\n",
    "https://leetcode.cn/problems/linked-list-cycle-ii/solutions/12616/linked-list-cycle-ii-kuai-man-zhi-zhen-shuang-zhi-"
   ]
  }
 ],
 "metadata": {
  "language_info": {
   "name": "python"
  }
 },
 "nbformat": 4,
 "nbformat_minor": 5
}
