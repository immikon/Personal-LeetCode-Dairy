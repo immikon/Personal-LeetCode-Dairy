{
 "cells": [
  {
   "cell_type": "markdown",
   "id": "e322903c",
   "metadata": {},
   "source": [
    "# 36. 二叉树的中序遍历 \n",
    "\n",
    "给定一个二叉树的根节点 `root` ，返回 _它的 **中序**  遍历_ 。\n",
    "\n",
    "**示例 1：** \n",
    "\n",
    "![](https://assets.leetcode.com/uploads/2020/09/15/inorder_1.jpg)\n",
    "> **输入：** root = \\[1,null,2,3]\n",
    "> **输出：** \\[1,3,2]\n",
    "> \n",
    "\n",
    "**示例 2：** \n",
    "\n",
    "> **输入：** root = \\[]\n",
    "> **输出：** \\[]\n",
    "> \n",
    "\n",
    "**示例 3：** \n",
    "\n",
    "> **输入：** root = \\[1]\n",
    "> **输出：** \\[1]\n",
    "> \n",
    "\n",
    "**提示：** \n",
    "\n",
    "*   树中节点数目在范围 `[0, 100]` 内\n",
    "*   `-100 <= Node.val <= 100`\n",
    "\n",
    "**进阶:**  递归算法很简单，你可以通过迭代算法完成吗？"
   ]
  },
  {
   "cell_type": "markdown",
   "id": "1a0ae178",
   "metadata": {},
   "source": [
    "#### 递归法"
   ]
  },
  {
   "cell_type": "code",
   "execution_count": null,
   "id": "385b33e4",
   "metadata": {
    "vscode": {
     "languageId": "plaintext"
    }
   },
   "outputs": [],
   "source": [
    "# Definition for a binary tree node.\n",
    "# class TreeNode(object):\n",
    "#     def __init__(self, val=0, left=None, right=None):\n",
    "#         self.val = val\n",
    "#         self.left = left\n",
    "#         self.right = right\n",
    "class Solution(object):\n",
    "    def inorderTraversal(self, root):\n",
    "        \"\"\"\n",
    "        :type root: Optional[TreeNode]\n",
    "        :rtype: List[int]\n",
    "        \"\"\"\n",
    "        # 中序遍历的访问顺序是：左子树-根节点-右子树\n",
    "        if not root:\n",
    "            return []\n",
    "        res = []\n",
    "        self.inorder(root, res)\n",
    "        return res\n",
    "    \n",
    "    def inorder(self, root, res):\n",
    "        if not root:\n",
    "            return\n",
    "        self.inorder(root.left, res)\n",
    "        res.append(root.val)\n",
    "        self.inorder(root.right, res)\n"
   ]
  },
  {
   "cell_type": "markdown",
   "id": "c298ec94",
   "metadata": {},
   "source": [
    "#### 迭代方法"
   ]
  },
  {
   "cell_type": "code",
   "execution_count": null,
   "id": "d9bb5fee",
   "metadata": {
    "vscode": {
     "languageId": "plaintext"
    }
   },
   "outputs": [],
   "source": [
    "# Definition for a binary tree node.\n",
    "# class TreeNode(object):\n",
    "#     def __init__(self, val=0, left=None, right=None):\n",
    "#         self.val = val\n",
    "#         self.left = left\n",
    "#         self.right = right\n",
    "class Solution(object):\n",
    "    def inorderTraversal(self, root):\n",
    "        \"\"\"\n",
    "        :type root: Optional[TreeNode]\n",
    "        :rtype: List[int]\n",
    "        \"\"\"\n",
    "        # 中序遍历的访问顺序是：左子树-根节点-右子树\n",
    "        # 如果不递归，使用迭代方法解决\n",
    "        if not root:\n",
    "            return []\n",
    "        res = []\n",
    "        # python 的栈可以用 list 写\n",
    "        stack_list = []\n",
    "        while root or stack_list:\n",
    "            # 找到最下方的左节点\n",
    "            while root:\n",
    "                stack_list.append(root)\n",
    "                root = root.left\n",
    "            root = stack_list.pop()\n",
    "            res.append(root.val)\n",
    "            root = root.right\n",
    "\n",
    "        return res\n"
   ]
  },
  {
   "cell_type": "markdown",
   "id": "48278bcb",
   "metadata": {},
   "source": [
    "### 先序与后序\n",
    "\n",
    "先序遍历的访问顺序是：根节点 -> 左子树 -> 右子树。\n",
    "\n",
    "我们只需要将 res.append(root.val) 这行代码放在递归调用左子树和右子树之前。\n",
    "\n",
    "后序遍历的访问顺序是：左子树 -> 右子树 -> 根节点。\n",
    "\n",
    "我们需要将 res.append(root.val) 这行代码放在递归调用左子树和右子树之后。"
   ]
  },
  {
   "cell_type": "code",
   "execution_count": null,
   "id": "ea8558e6",
   "metadata": {
    "vscode": {
     "languageId": "plaintext"
    }
   },
   "outputs": [],
   "source": [
    "# Definition for a binary tree node.\n",
    "# class TreeNode(object):\n",
    "#     def __init__(self, val=0, left=None, right=None):\n",
    "#         self.val = val\n",
    "#         self.left = left\n",
    "#         self.right = right\n",
    "\n",
    "class Solution(object):\n",
    "    def preorderTraversal(self, root):\n",
    "        \"\"\"\n",
    "        :type root: Optional[TreeNode]\n",
    "        :rtype: List[int]\n",
    "        \"\"\"\n",
    "        # 先序遍历的访问顺序是：根节点-左子树-右子树\n",
    "        res = []\n",
    "        self.preorder(root, res)\n",
    "        return res\n",
    "    \n",
    "    def preorder(self, root, res):\n",
    "        if not root:\n",
    "            return\n",
    "        # 1. 首先访问根节点\n",
    "        res.append(root.val)\n",
    "        # 2. 然后递归遍历左子树\n",
    "        self.preorder(root.left, res)\n",
    "        # 3. 最后递归遍历右子树\n",
    "        self.preorder(root.right, res)"
   ]
  },
  {
   "cell_type": "code",
   "execution_count": null,
   "id": "ccc51c54",
   "metadata": {
    "vscode": {
     "languageId": "plaintext"
    }
   },
   "outputs": [],
   "source": [
    "# Definition for a binary tree node.\n",
    "# class TreeNode(object):\n",
    "#     def __init__(self, val=0, left=None, right=None):\n",
    "#         self.val = val\n",
    "#         self.left = left\n",
    "#         self.right = right\n",
    "\n",
    "class Solution(object):\n",
    "    def postorderTraversal(self, root):\n",
    "        \"\"\"\n",
    "        :type root: Optional[TreeNode]\n",
    "        :rtype: List[int]\n",
    "        \"\"\"\n",
    "        # 后序遍历的访问顺序是：左子树-右子树-根节点\n",
    "        res = []\n",
    "        self.postorder(root, res)\n",
    "        return res\n",
    "    \n",
    "    def postorder(self, root, res):\n",
    "        if not root:\n",
    "            return\n",
    "        # 1. 首先递归遍历左子树\n",
    "        self.postorder(root.left, res)\n",
    "        # 2. 然后递归遍历右子树\n",
    "        self.postorder(root.right, res)\n",
    "        # 3. 最后访问根节点\n",
    "        res.append(root.val)"
   ]
  }
 ],
 "metadata": {
  "language_info": {
   "name": "python"
  }
 },
 "nbformat": 4,
 "nbformat_minor": 5
}
