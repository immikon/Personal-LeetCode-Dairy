{
 "cells": [
  {
   "cell_type": "markdown",
   "id": "7518948c",
   "metadata": {},
   "source": [
    "# 40. 二叉树的直径 \n",
    "\n",
    "给你一棵二叉树的根节点，返回该树的 **直径**  。\n",
    "\n",
    "二叉树的 **直径**  是指树中任意两个节点之间最长路径的 **长度**  。这条路径可能经过也可能不经过根节点 `root` 。\n",
    "\n",
    "两节点之间路径的 **长度**  由它们之间边数表示。\n",
    "\n",
    "**示例 1：** \n",
    "\n",
    "![](https://assets.leetcode.com/uploads/2021/03/06/diamtree.jpg)\n",
    "> **输入：** root = \\[1,2,3,4,5]\n",
    "> **输出：** 3\n",
    "> **解释：** 3 ，取路径 \\[4,2,1,3] 或 \\[5,2,1,3] 的长度。\n",
    "> \n",
    "\n",
    "**示例 2：** \n",
    "\n",
    "> **输入：** root = \\[1,2]\n",
    "> **输出：** 1\n",
    "> \n",
    "\n",
    "**提示：** \n",
    "\n",
    "*   树中节点数目在范围 `[1, 10^4]` 内\n",
    "*   `-100 <= Node.val <= 100`"
   ]
  },
  {
   "cell_type": "code",
   "execution_count": null,
   "id": "60debd03",
   "metadata": {
    "vscode": {
     "languageId": "plaintext"
    }
   },
   "outputs": [],
   "source": [
    "# Definition for a binary tree node.\n",
    "# class TreeNode(object):\n",
    "#     def __init__(self, val=0, left=None, right=None):\n",
    "#         self.val = val\n",
    "#         self.left = left\n",
    "#         self.right = right\n",
    "class Solution(object):\n",
    "    res = 0\n",
    "    def diameterOfBinaryTree(self, root):\n",
    "        \"\"\"\n",
    "        :type root: Optional[TreeNode]\n",
    "        :rtype: int\n",
    "        \"\"\"\n",
    "        # 二叉树最长路径\n",
    "        # 答案为某节点的 max左树 + max右树\n",
    "        # 遍历每一节点的左子树与右子树最大深度\n",
    "        self.dfs(root)\n",
    "        return self.res\n",
    "    \n",
    "    def dfs(self, root):\n",
    "        if not root:\n",
    "            return 0\n",
    "        leftD = self.dfs(root.left)\n",
    "        rightD = self.dfs(root.right)\n",
    "        self.res = max(leftD + rightD, self.res)\n",
    "        return max(leftD, rightD) + 1"
   ]
  }
 ],
 "metadata": {
  "language_info": {
   "name": "python"
  }
 },
 "nbformat": 4,
 "nbformat_minor": 5
}
