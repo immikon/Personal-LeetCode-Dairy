{
 "cells": [
  {
   "cell_type": "markdown",
   "id": "cc68b9f7",
   "metadata": {},
   "source": [
    "# 9. 找到字符串中所有字母异位词 \n",
    "\n",
    "给定两个字符串 `s` 和 `p`，找到 `s` 中所有 `p` 的 **异位词**  的子串，返回这些子串的起始索引。不考虑答案输出的顺序。\n",
    "\n",
    "**示例 1:** \n",
    "\n",
    "> **输入:**  s = \"cbaebabacd\", p = \"abc\"\n",
    "> **输出:**  \\[0,6]\n",
    "> **解释:** \n",
    "> 起始索引等于 0 的子串是 \"cba\", 它是 \"abc\" 的异位词。\n",
    "> 起始索引等于 6 的子串是 \"bac\", 它是 \"abc\" 的异位词。\n",
    "> \n",
    "\n",
    " **示例 2:** \n",
    "\n",
    "> **输入:**  s = \"abab\", p = \"ab\"\n",
    "> **输出:**  \\[0,1,2]\n",
    "> **解释:** \n",
    "> 起始索引等于 0 的子串是 \"ab\", 它是 \"ab\" 的异位词。\n",
    "> 起始索引等于 1 的子串是 \"ba\", 它是 \"ab\" 的异位词。\n",
    "> 起始索引等于 2 的子串是 \"ab\", 它是 \"ab\" 的异位词。\n",
    "> \n",
    "\n",
    "**提示:** \n",
    "\n",
    "*   `1 <= s.length, p.length <= 3 * 10^4`\n",
    "*   `s` 和 `p` 仅包含小写字母"
   ]
  },
  {
   "cell_type": "code",
   "execution_count": null,
   "id": "3dd61731",
   "metadata": {
    "vscode": {
     "languageId": "plaintext"
    }
   },
   "outputs": [],
   "source": [
    "#解法1：外层循环，内层列出清单进行比较，复杂度O(n*m)\n",
    "class Solution(object):\n",
    "    def findAnagrams(self, s, p):\n",
    "        \"\"\"\n",
    "        :type s: str\n",
    "        :type p: str\n",
    "        :rtype: List[int]\n",
    "        \"\"\"\n",
    "        n = len(p)\n",
    "        p1 = 0\n",
    "        result = []\n",
    "        #生成一个记录了字符出现次数的字典/计数哈希表\n",
    "        p_counts = collections.Counter(p)\n",
    "        for p1 in range(len(s) - n + 1):\n",
    "            temp_counts = p_counts.copy()\n",
    "            flag = 0\n",
    "            for i in range(n):\n",
    "                if s[p1 + i] in temp_counts and temp_counts[s[p1 + i]] > 0:\n",
    "                    temp_counts[s[p1 + i]] -= 1\n",
    "                else:\n",
    "                    flag = 1\n",
    "                    break\n",
    "            if flag == 0:\n",
    "                result.append(p1)\n",
    "        return result    "
   ]
  },
  {
   "cell_type": "markdown",
   "id": "3df88103",
   "metadata": {},
   "source": [
    "这一模式低效的原因在于，每一次移动时，都要将所有框内元素取出比较，这带来了很多重复运算。\n",
    "\n",
    "当p的长度小时，带来的复杂性尚可，但p若很大，则使运算更加复杂\n",
    "\n",
    "滑动窗口法的**优势**在于：将总体的考虑替换，只需要考虑\n",
    "**`进入`窗口的元素** 与 **`离开`窗口的元素**"
   ]
  },
  {
   "cell_type": "code",
   "execution_count": null,
   "id": "571e8b84",
   "metadata": {
    "vscode": {
     "languageId": "plaintext"
    }
   },
   "outputs": [],
   "source": [
    "class Solution(object):\n",
    "    def findAnagrams(self, s, p):\n",
    "        \"\"\"\n",
    "        :type s: str\n",
    "        :type p: str\n",
    "        :rtype: List[int]\n",
    "        \"\"\"\n",
    "        s_len, p_len = len(s), len(p)\n",
    "        result = []\n",
    "\n",
    "        # 建立 p 的字符计数哈希表和 s 第一个窗口的哈希表\n",
    "        # 并执行第一次检查\n",
    "        p_counts = collections.Counter(p)\n",
    "        s_counts = collections.Counter(s[:p_len])\n",
    "        if s_counts == p_counts:\n",
    "            result.append(0)\n",
    "\n",
    "        # 开始循环滑动\n",
    "        # right 指针代表窗口的右边界的下一个位置\n",
    "        # left 指针代表窗口的左边界\n",
    "        for right in range(p_len, s_len):\n",
    "            # 新进入窗口的字符\n",
    "            new_char = s[right]\n",
    "            s_counts[new_char] += 1\n",
    "            \n",
    "            # 被移出窗口的字符\n",
    "            old_char = s[right - p_len]\n",
    "            s_counts[old_char] -= 1\n",
    "            \n",
    "            # 如果一个字符的计数变为0，从字典中删除它，以保证比较的准确性\n",
    "            if s_counts[old_char] == 0:\n",
    "                del s_counts[old_char]\n",
    "\n",
    "            # 比较并记录\n",
    "            # 当前窗口的起始索引是 right - p_len + 1\n",
    "            if s_counts == p_counts:\n",
    "                result.append(right - p_len + 1)\n",
    "\n",
    "        return result"
   ]
  }
 ],
 "metadata": {
  "language_info": {
   "name": "python"
  }
 },
 "nbformat": 4,
 "nbformat_minor": 5
}
