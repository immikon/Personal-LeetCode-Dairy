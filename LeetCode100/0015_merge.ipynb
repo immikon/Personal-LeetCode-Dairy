{
 "cells": [
  {
   "cell_type": "markdown",
   "id": "7a780f70",
   "metadata": {},
   "source": [
    "# 15. 合并区间 \n",
    "\n",
    "以数组 `intervals` 表示若干个区间的集合，其中单个区间为 `intervals[i] = [start_i, end_i]` 。请你合并所有重叠的区间，并返回 _一个不重叠的区间数组，该数组需恰好覆盖输入中的所有区间_ 。\n",
    "\n",
    "**示例 1：** \n",
    "\n",
    "> **输入：** intervals = \\[\\[1,3],\\[2,6],\\[8,10],\\[15,18]]\n",
    "> **输出：** \\[\\[1,6],\\[8,10],\\[15,18]]\n",
    "> **解释：** 区间 \\[1,3] 和 \\[2,6] 重叠, 将它们合并为 \\[1,6]\\.\n",
    "> \n",
    "\n",
    "**示例 2：** \n",
    "\n",
    "> **输入：** intervals = \\[\\[1,4],\\[4,5]]\n",
    "> **输出：** \\[\\[1,5]]\n",
    "> **解释：** 区间 \\[1,4] 和 \\[4,5] 可被视为重叠区间。\n",
    "\n",
    "**提示：** \n",
    "\n",
    "*   `1 <= intervals.length <= 10^4`\n",
    "*   `intervals[i].length == 2`\n",
    "*   `0 <= start_i <= end_i <= 10^4`"
   ]
  },
  {
   "cell_type": "code",
   "execution_count": null,
   "id": "184be1ed",
   "metadata": {
    "vscode": {
     "languageId": "plaintext"
    }
   },
   "outputs": [],
   "source": [
    "# 这是第一次写出的错误案例。它的逻辑思维是正确的，但在处理时做的很不聪明\n",
    "class Solution(object):\n",
    "    def merge(self, intervals):\n",
    "        \"\"\"\n",
    "        :type intervals: List[List[int]]\n",
    "        :rtype: List[List[int]]\n",
    "        \"\"\"\n",
    "        # 逻辑上，需要保留有序性\n",
    "        # Q:interval内部start是否有序呢？\n",
    "        # case intervals = [[1,4],[6,8],[4,5]]; intervals = [[1,6],[2,4]]\n",
    "        # 1.endi >= startj\n",
    "        # 2.starti <= endj\n",
    "        # 这样做的遍历会带来不必要的复杂度\n",
    "        # 可以考虑存储现有的最大end(?)来避免条件2的判断\n",
    "        # 或将intervals进行排序(?)\n",
    "        intervals.sort()\n",
    "        n = len(intervals)\n",
    "        if n == 1 or n == 0:\n",
    "            return intervals\n",
    "        for i in range(n - 1):\n",
    "            # 因为starti <= startj，所以starti <= endj\n",
    "            if i >= len(intervals) - 1:\n",
    "                break\n",
    "            endi = intervals[i][1]\n",
    "            startj = intervals[i + 1][0]\n",
    "            if endi >= startj:\n",
    "                intervals[i][1] = max(intervals[i][1],intervals[i + 1][1])\n",
    "                intervals.pop(i + 1)\n",
    "        return intervals\n",
    "        "
   ]
  },
  {
   "cell_type": "markdown",
   "id": "18374036",
   "metadata": {},
   "source": [
    "在应对合并问题时，我们注意到原存储结构的下标是一定会变动的，这时直接在原存储结构中进行修改就会带来不必要的麻烦。\n",
    "\n",
    "遍历与pop会造成循环中的下标混乱，从而丢失比较次数。\n",
    "\n",
    "构建一个新的存储结构来记录对象会是比较有效的解决方案。\n",
    "\n",
    "以下是调整后的成果。"
   ]
  },
  {
   "cell_type": "code",
   "execution_count": null,
   "id": "4e799881",
   "metadata": {
    "vscode": {
     "languageId": "plaintext"
    }
   },
   "outputs": [],
   "source": [
    "class Solution(object):\n",
    "    def merge(self, intervals):\n",
    "        \"\"\"\n",
    "        :type intervals: List[List[int]]\n",
    "        :rtype: List[List[int]]\n",
    "        \"\"\"\n",
    "        # 逻辑上，需要保留有序性\n",
    "        # Q:interval内部start是否有序呢？\n",
    "        # case intervals = [[1,4],[6,8],[4,5]]; intervals = [[1,6],[2,4]]\n",
    "        # 1.endi >= startj\n",
    "        # 2.starti <= endj\n",
    "        # 这样做的遍历会带来不必要的复杂度\n",
    "        # 可以考虑存储现有的最大end(?)来避免条件2的判断\n",
    "        # 或将intervals进行排序(?)\n",
    "        intervals.sort()\n",
    "        n = len(intervals)\n",
    "        merged = [intervals[0]]\n",
    "        if n == 1 or n == 0:\n",
    "            return intervals\n",
    "        for i in range(1, len(intervals)):\n",
    "            # 获取当前区间和已合并的最后一个区间\n",
    "            current_start, current_end = intervals[i]\n",
    "            last_merged_start, last_merged_end = merged[-1]\n",
    "\n",
    "            # 检查是否重叠\n",
    "            if current_start <= last_merged_end:\n",
    "                # 如果重叠，只更新 merged 中最后一个区间的结束点\n",
    "                # 不需要 pop，也不需要修改原列表\n",
    "                merged[-1][1] = max(last_merged_end, current_end)\n",
    "            else:\n",
    "                # 如果不重叠，将当前区间直接加入 merged 列表\n",
    "                merged.append(intervals[i])\n",
    "        return merged\n",
    "        "
   ]
  }
 ],
 "metadata": {
  "language_info": {
   "name": "python"
  }
 },
 "nbformat": 4,
 "nbformat_minor": 5
}
