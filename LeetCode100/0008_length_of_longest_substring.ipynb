{
 "cells": [
  {
   "cell_type": "markdown",
   "id": "c7004ac8",
   "metadata": {},
   "source": [
    "# 8. 无重复字符的最长子串 \n",
    "\n",
    "给定一个字符串 `s` ，请你找出其中不含有重复字符的 **最长 子串**  的长度。\n",
    "\n",
    "**示例 1:** \n",
    "\n",
    "> **输入:**  s = \"abcabcbb\"\n",
    "> **输出:**  3 \n",
    "> **解释:**  因为无重复字符的最长子串是 `\"abc\"`，所以其长度为 3。\n",
    "> \n",
    "\n",
    "**示例 2:** \n",
    "\n",
    "> **输入:**  s = \"bbbbb\"\n",
    "> **输出:**  1\n",
    "> **解释:**  因为无重复字符的最长子串是 `\"b\"`，所以其长度为 1。\n",
    "> \n",
    "\n",
    "**示例 3:** \n",
    "\n",
    "> **输入:**  s = \"pwwkew\"\n",
    "> **输出:**  3\n",
    "> **解释:**  因为无重复字符的最长子串是 `\"wke\"`，所以其长度为 3。\n",
    ">      请注意，你的答案必须是 **子串**  的长度，`\"pwke\"` 是一个_子序列，_不是子串。\n",
    "> \n",
    "\n",
    "**提示：** \n",
    "\n",
    "*   `0 <= s.length <= 5 * 10^4`\n",
    "*   `s` 由英文字母、数字、符号和空格组成"
   ]
  },
  {
   "cell_type": "code",
   "execution_count": null,
   "id": "4853cd09",
   "metadata": {
    "vscode": {
     "languageId": "plaintext"
    }
   },
   "outputs": [],
   "source": [
    "class Solution(object):\n",
    "    def lengthOfLongestSubstring(self, s):\n",
    "        \"\"\"\n",
    "        :type s: str\n",
    "        :rtype: int\n",
    "        \"\"\"\n",
    "        max_cnt = 0\n",
    "        char_set = set()\n",
    "        first = 0\n",
    "        for sec in range(len(s)):\n",
    "            while s[sec] in char_set:\n",
    "                char_set.remove(s[first])\n",
    "                first += 1\n",
    "            char_set.add(s[sec])\n",
    "            max_cnt = max(max_cnt, sec - first + 1)\n",
    "        return max_cnt"
   ]
  },
  {
   "cell_type": "markdown",
   "id": "a802dcf2",
   "metadata": {},
   "source": [
    "利用set中元素不重复的性质来检查是否有字符重复。\n",
    "\n",
    "这个问题利用了滑动窗口的方法解决，个人认为近似于双指针。"
   ]
  }
 ],
 "metadata": {
  "language_info": {
   "name": "python"
  }
 },
 "nbformat": 4,
 "nbformat_minor": 5
}
