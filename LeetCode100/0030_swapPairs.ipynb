{
 "cells": [
  {
   "cell_type": "markdown",
   "id": "1cff7860",
   "metadata": {},
   "source": [
    "# 30. 两两交换链表中的节点 \n",
    "\n",
    "给你一个链表，两两交换其中相邻的节点，并返回交换后链表的头节点。你必须在不修改节点内部的值的情况下完成本题（即，只能进行节点交换）。\n",
    "\n",
    "**示例 1：** \n",
    "\n",
    "![](https://assets.leetcode.com/uploads/2020/10/03/swap_ex1.jpg)\n",
    "> **输入：** head = \\[1,2,3,4]\n",
    "> **输出：** \\[2,1,4,3]\n",
    "> \n",
    "\n",
    "**示例 2：** \n",
    "\n",
    "> **输入：** head = \\[]\n",
    "> **输出：** \\[]\n",
    "> \n",
    "\n",
    "**示例 3：** \n",
    "\n",
    "> **输入：** head = \\[1]\n",
    "> **输出：** \\[1]\n",
    "> \n",
    "\n",
    "**提示：** \n",
    "\n",
    "*   链表中节点的数目在范围 `[0, 100]` 内\n",
    "*   `0 <= Node.val <= 100`"
   ]
  },
  {
   "cell_type": "code",
   "execution_count": null,
   "id": "67309241",
   "metadata": {
    "vscode": {
     "languageId": "plaintext"
    }
   },
   "outputs": [],
   "source": [
    "# Definition for singly-linked list.\n",
    "# class ListNode(object):\n",
    "#     def __init__(self, val=0, next=None):\n",
    "#         self.val = val\n",
    "#         self.next = next\n",
    "class Solution(object):\n",
    "    def swapPairs(self, head):\n",
    "        \"\"\"\n",
    "        :type head: Optional[ListNode]\n",
    "        :rtype: Optional[ListNode]\n",
    "        \"\"\"\n",
    "        # 交换相邻节点且不允许做值修改\n",
    "        prev = dummy = ListNode(0, head)\n",
    "        left = head\n",
    "        # 处理空链表\n",
    "        if not head:\n",
    "            return head\n",
    "        # 处理单个节点链表\n",
    "        right = left.next\n",
    "        if not right:\n",
    "            return head\n",
    "        while prev.next and prev.next.next:\n",
    "            left = prev.next\n",
    "            right = prev.next.next\n",
    "            # 交换\n",
    "            # 边界情况不大容易处理    \n",
    "            left.next = right.next\n",
    "            prev.next = right\n",
    "            right.next = left\n",
    "            \n",
    "            # 更换到下一轮的prev, left, right\n",
    "            prev = left\n",
    "        \n",
    "        return dummy.next"
   ]
  }
 ],
 "metadata": {
  "language_info": {
   "name": "python"
  }
 },
 "nbformat": 4,
 "nbformat_minor": 5
}
