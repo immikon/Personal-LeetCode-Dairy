{
 "cells": [
  {
   "cell_type": "markdown",
   "id": "f5132480",
   "metadata": {},
   "source": [
    "# 5. 盛最多水的容器 \n",
    "\n",
    "给定一个长度为 `n` 的整数数组 `height` 。有 `n` 条垂线，第 `i` 条线的两个端点是 `(i, 0)` 和 `(i, height[i])` 。\n",
    "\n",
    "找出其中的两条线，使得它们与 `x` 轴共同构成的容器可以容纳最多的水。\n",
    "\n",
    "返回容器可以储存的最大水量。\n",
    "\n",
    "**说明：** 你不能倾斜容器。\n",
    "\n",
    "**示例 1：** \n",
    "\n",
    "![](https://aliyun-lc-upload.oss-cn-hangzhou.aliyuncs.com/aliyun-lc-upload/uploads/2018/07/25/question_11.jpg)\n",
    "\n",
    "> **输入：** \\[1,8,6,2,5,4,8,3,7]\n",
    "> **输出：** 49 \n",
    "> **解释：** 图中垂直线代表输入数组 \\[1,8,6,2,5,4,8,3,7]。在此情况下，容器能够容纳水（表示为蓝色部分）的最大值为 49。\n",
    "\n",
    "**示例 2：** \n",
    "\n",
    "> **输入：** height = \\[1,1]\n",
    "> **输出：** 1\n",
    "> \n",
    "\n",
    "**提示：** \n",
    "\n",
    "*   `n == height.length`\n",
    "*   `2 <= n <= 10^5`\n",
    "*   `0 <= height[i] <= 10^4`"
   ]
  },
  {
   "cell_type": "code",
   "execution_count": null,
   "id": "792e15cd",
   "metadata": {
    "vscode": {
     "languageId": "plaintext"
    }
   },
   "outputs": [],
   "source": [
    "#暴力解法O(n^2)\n",
    "class Solution(object):\n",
    "    def maxArea(self, height):\n",
    "        \"\"\"\n",
    "        :type height: List[int]\n",
    "        :rtype: int\n",
    "        \"\"\"\n",
    "        max_vec = 0\n",
    "        for p1 in range(len(height)):\n",
    "            for p2 in range(p1, len(height)):\n",
    "                max_vec = max(max_vec, (p2 - p1) * min(height[p1], height[p2]))\n",
    "        return max_vec"
   ]
  },
  {
   "cell_type": "markdown",
   "id": "60793021",
   "metadata": {},
   "source": [
    "为得到一个好的解法，可能需要将问题原理解析清楚。\n",
    "\n",
    "尝试将过程拆解，以此为例：\n",
    "\n",
    "`h[1]` 与 `h[3]` 得到的容量显然小于 `h[2]` 与 `h[3]` 得到的容量。然而，这意味着往后 `h[1]` 与其他线构成的容量一定小于 `h[2]` 吗？\n",
    "\n",
    "**将这一问题进一步泛化，得到：**\n",
    "\n",
    "* vec1 = (n - p1) * min(h[p1], h[n])\n",
    "\n",
    "* vec2 = (n - p2) * min(h[p2], h[n])\n",
    "\n",
    "* (m - p1) * min(h[p1], h[m]) < (m - p2) * min(h[p2], h[m]) && m < n\n",
    "\n",
    "由 3 知，h[m] > h[p1], h[p2] > h[p1]\n",
    "\n",
    "可以简化为\n",
    "* (m - p1) * h[p1] < (m - p2) * h[p2]\n",
    "\n",
    "那么，若 h[n] > h[p2]， 可以推导\n",
    "\n",
    "* vec1 < h[p2] * (m - p2) * (n - p1) / (m - p1)\n",
    "\n",
    "* (m - p2) / (m - p1) < (n - p2) / (n - p1)\n",
    "\n",
    "因此，vec1 < vec2.\n",
    "\n",
    "若 h[n] < h[p1], 则 vec1 > vec2.\n",
    "\n",
    "若 h[p2] > h[n] > h[p1], 则无法判断。\n",
    "\n",
    "若使用双指针，这一问题不能够将双指针放在同一初始位置解决。"
   ]
  },
  {
   "cell_type": "markdown",
   "id": "e2323507",
   "metadata": {},
   "source": [
    "### 复杂度为O(n)的做法\n",
    "\n",
    "双指针分别置于头与尾，每一次向内移动高度更小的指针。\n",
    "\n",
    "向内移动，水面宽度一定不会超出现有值，高度一定不会超出目前双指针的最小值。"
   ]
  },
  {
   "cell_type": "code",
   "execution_count": null,
   "id": "32392013",
   "metadata": {
    "vscode": {
     "languageId": "plaintext"
    }
   },
   "outputs": [],
   "source": [
    "#比较需要巧思的问题，最初尝试厘清数学逻辑反而陷入误区了\n",
    "class Solution(object):\n",
    "    def maxArea(self, height):\n",
    "        \"\"\"\n",
    "        :type height: List[int]\n",
    "        :rtype: int\n",
    "        \"\"\"\n",
    "        max_vec = 0\n",
    "        p1 = 0\n",
    "        p2 = len(height) - 1\n",
    "        while p1 < p2:\n",
    "            vec = (p2 - p1) * min(height[p1], height[p2])\n",
    "            if(height[p1] < height[p2]):\n",
    "                p1 += 1\n",
    "            else:\n",
    "                p2 -= 1\n",
    "            max_vec = max(vec, max_vec)\n",
    "        return max_vec"
   ]
  }
 ],
 "metadata": {
  "language_info": {
   "name": "python"
  }
 },
 "nbformat": 4,
 "nbformat_minor": 5
}
