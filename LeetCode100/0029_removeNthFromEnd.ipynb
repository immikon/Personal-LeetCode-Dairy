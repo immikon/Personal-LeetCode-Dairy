{
 "cells": [
  {
   "cell_type": "markdown",
   "id": "bc097bee",
   "metadata": {},
   "source": [
    "# 29. 删除链表的倒数第 N 个结点 \n",
    "\n",
    "给你一个链表，删除链表的倒数第 `n` 个结点，并且返回链表的头结点。\n",
    "\n",
    "**示例 1：** \n",
    "\n",
    "![](https://assets.leetcode.com/uploads/2020/10/03/remove_ex1.jpg)\n",
    "> **输入：** head = \\[1,2,3,4,5], n = 2\n",
    "> **输出：** \\[1,2,3,5]\n",
    "> \n",
    "\n",
    "**示例 2：** \n",
    "\n",
    "> **输入：** head = \\[1], n = 1\n",
    "> **输出：** \\[]\n",
    "> \n",
    "\n",
    "**示例 3：** \n",
    "\n",
    "> **输入：** head = \\[1,2], n = 1\n",
    "> **输出：** \\[1]\n",
    "> \n",
    "\n",
    "**提示：** \n",
    "\n",
    "*   链表中结点的数目为 `sz`\n",
    "*   `1 <= sz <= 30`\n",
    "*   `0 <= Node.val <= 100`\n",
    "*   `1 <= n <= sz`\n",
    "\n",
    "**进阶：** 你能尝试使用一趟扫描实现吗？"
   ]
  },
  {
   "cell_type": "code",
   "execution_count": null,
   "id": "d8eab6c5",
   "metadata": {
    "vscode": {
     "languageId": "plaintext"
    }
   },
   "outputs": [],
   "source": [
    "# Definition for singly-linked list.\n",
    "# class ListNode(object):\n",
    "#     def __init__(self, val=0, next=None):\n",
    "#         self.val = val\n",
    "#         self.next = next\n",
    "class Solution(object):\n",
    "    def removeNthFromEnd(self, head, n):\n",
    "        \"\"\"\n",
    "        :type head: Optional[ListNode]\n",
    "        :type n: int\n",
    "        :rtype: Optional[ListNode]\n",
    "        \"\"\"\n",
    "        crt = head\n",
    "        num = 1\n",
    "        # 可能可以先做一个链表倒转\n",
    "        # 或者遍历一遍链表，得到总节点数num，再通过一次遍历删除第num - n + 1个节点\n",
    "        if not head:\n",
    "            return head\n",
    "        while crt.next:\n",
    "            crt = crt.next\n",
    "            num += 1\n",
    "        \n",
    "        if num == n:\n",
    "            return head.next\n",
    "        \n",
    "        crt = head\n",
    "        for _ in range(num - n - 1):\n",
    "            crt = crt.next\n",
    "        crt.next = crt.next.next\n",
    "        \n",
    "        return head"
   ]
  },
  {
   "cell_type": "markdown",
   "id": "3f1ad160",
   "metadata": {},
   "source": [
    "使用一次扫描实现"
   ]
  },
  {
   "cell_type": "code",
   "execution_count": null,
   "id": "aff6313d",
   "metadata": {
    "vscode": {
     "languageId": "plaintext"
    }
   },
   "outputs": [],
   "source": [
    "# Definition for singly-linked list.\n",
    "# class ListNode(object):\n",
    "#     def __init__(self, val=0, next=None):\n",
    "#         self.val = val\n",
    "#         self.next = next\n",
    "class Solution(object):\n",
    "    def removeNthFromEnd(self, head, n):\n",
    "        \"\"\"\n",
    "        :type head: Optional[ListNode]\n",
    "        :type n: int\n",
    "        :rtype: Optional[ListNode]\n",
    "        \"\"\"\n",
    "        # 滑动窗口的方案\n",
    "        left = right = dummy = ListNode(0, head)\n",
    "        # 右指针先移动n个单位\n",
    "        for _ in range(n):\n",
    "            right = right.next\n",
    "        # 此时右指针位于链表第n个节点，左指针在节点0（head的前一个节点）\n",
    "        # 当右指针移动到末尾节点时，左指针的位置在倒数第n + 1的节点\n",
    "        while right.next:\n",
    "            left = left.next\n",
    "            right = right.next\n",
    "        left.next = left.next.next\n",
    "        return dummy.next\n",
    "        "
   ]
  }
 ],
 "metadata": {
  "language_info": {
   "name": "python"
  }
 },
 "nbformat": 4,
 "nbformat_minor": 5
}
